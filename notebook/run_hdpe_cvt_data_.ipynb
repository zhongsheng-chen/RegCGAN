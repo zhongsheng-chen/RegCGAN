{
 "cells": [
  {
   "cell_type": "code",
   "execution_count": 1,
   "metadata": {
    "pycharm": {
     "name": "#%%\n"
    }
   },
   "outputs": [
    {
     "name": "stderr",
     "output_type": "stream",
     "text": [
      "Using TensorFlow backend.\n",
      "/Users/zhongsheng/anaconda2/envs/ganRegression/lib/python3.6/site-packages/tensorflow/python/framework/dtypes.py:516: FutureWarning: Passing (type, 1) or '1type' as a synonym of type is deprecated; in a future version of numpy, it will be understood as (type, (1,)) / '(1,)type'.\n",
      "  _np_qint8 = np.dtype([(\"qint8\", np.int8, 1)])\n",
      "/Users/zhongsheng/anaconda2/envs/ganRegression/lib/python3.6/site-packages/tensorflow/python/framework/dtypes.py:517: FutureWarning: Passing (type, 1) or '1type' as a synonym of type is deprecated; in a future version of numpy, it will be understood as (type, (1,)) / '(1,)type'.\n",
      "  _np_quint8 = np.dtype([(\"quint8\", np.uint8, 1)])\n",
      "/Users/zhongsheng/anaconda2/envs/ganRegression/lib/python3.6/site-packages/tensorflow/python/framework/dtypes.py:518: FutureWarning: Passing (type, 1) or '1type' as a synonym of type is deprecated; in a future version of numpy, it will be understood as (type, (1,)) / '(1,)type'.\n",
      "  _np_qint16 = np.dtype([(\"qint16\", np.int16, 1)])\n",
      "/Users/zhongsheng/anaconda2/envs/ganRegression/lib/python3.6/site-packages/tensorflow/python/framework/dtypes.py:519: FutureWarning: Passing (type, 1) or '1type' as a synonym of type is deprecated; in a future version of numpy, it will be understood as (type, (1,)) / '(1,)type'.\n",
      "  _np_quint16 = np.dtype([(\"quint16\", np.uint16, 1)])\n",
      "/Users/zhongsheng/anaconda2/envs/ganRegression/lib/python3.6/site-packages/tensorflow/python/framework/dtypes.py:520: FutureWarning: Passing (type, 1) or '1type' as a synonym of type is deprecated; in a future version of numpy, it will be understood as (type, (1,)) / '(1,)type'.\n",
      "  _np_qint32 = np.dtype([(\"qint32\", np.int32, 1)])\n",
      "/Users/zhongsheng/anaconda2/envs/ganRegression/lib/python3.6/site-packages/tensorflow/python/framework/dtypes.py:525: FutureWarning: Passing (type, 1) or '1type' as a synonym of type is deprecated; in a future version of numpy, it will be understood as (type, (1,)) / '(1,)type'.\n",
      "  np_resource = np.dtype([(\"resource\", np.ubyte, 1)])\n",
      "/Users/zhongsheng/anaconda2/envs/ganRegression/lib/python3.6/site-packages/tensorboard/compat/tensorflow_stub/dtypes.py:541: FutureWarning: Passing (type, 1) or '1type' as a synonym of type is deprecated; in a future version of numpy, it will be understood as (type, (1,)) / '(1,)type'.\n",
      "  _np_qint8 = np.dtype([(\"qint8\", np.int8, 1)])\n",
      "/Users/zhongsheng/anaconda2/envs/ganRegression/lib/python3.6/site-packages/tensorboard/compat/tensorflow_stub/dtypes.py:542: FutureWarning: Passing (type, 1) or '1type' as a synonym of type is deprecated; in a future version of numpy, it will be understood as (type, (1,)) / '(1,)type'.\n",
      "  _np_quint8 = np.dtype([(\"quint8\", np.uint8, 1)])\n",
      "/Users/zhongsheng/anaconda2/envs/ganRegression/lib/python3.6/site-packages/tensorboard/compat/tensorflow_stub/dtypes.py:543: FutureWarning: Passing (type, 1) or '1type' as a synonym of type is deprecated; in a future version of numpy, it will be understood as (type, (1,)) / '(1,)type'.\n",
      "  _np_qint16 = np.dtype([(\"qint16\", np.int16, 1)])\n",
      "/Users/zhongsheng/anaconda2/envs/ganRegression/lib/python3.6/site-packages/tensorboard/compat/tensorflow_stub/dtypes.py:544: FutureWarning: Passing (type, 1) or '1type' as a synonym of type is deprecated; in a future version of numpy, it will be understood as (type, (1,)) / '(1,)type'.\n",
      "  _np_quint16 = np.dtype([(\"quint16\", np.uint16, 1)])\n",
      "/Users/zhongsheng/anaconda2/envs/ganRegression/lib/python3.6/site-packages/tensorboard/compat/tensorflow_stub/dtypes.py:545: FutureWarning: Passing (type, 1) or '1type' as a synonym of type is deprecated; in a future version of numpy, it will be understood as (type, (1,)) / '(1,)type'.\n",
      "  _np_qint32 = np.dtype([(\"qint32\", np.int32, 1)])\n",
      "/Users/zhongsheng/anaconda2/envs/ganRegression/lib/python3.6/site-packages/tensorboard/compat/tensorflow_stub/dtypes.py:550: FutureWarning: Passing (type, 1) or '1type' as a synonym of type is deprecated; in a future version of numpy, it will be understood as (type, (1,)) / '(1,)type'.\n",
      "  np_resource = np.dtype([(\"resource\", np.ubyte, 1)])\n"
     ]
    },
    {
     "data": {
      "text/plain": "<module 'models.cgan_model' from '/Users/zhongsheng/Documents/GitWorkspace/ganRegression/models/cgan_model.py'>"
     },
     "execution_count": 1,
     "metadata": {},
     "output_type": "execute_result"
    }
   ],
   "source": [
    "import importlib\n",
    "\n",
    "import dataset, metrics, plotting, config, network\n",
    "from models import cgan_model\n",
    "import numpy as np\n",
    "import random\n",
    "\n",
    "importlib.reload(network)\n",
    "importlib.reload(dataset)\n",
    "importlib.reload(metrics)\n",
    "importlib.reload(plotting)\n",
    "importlib.reload(config)\n",
    "importlib.reload(cgan_model)"
   ]
  },
  {
   "cell_type": "code",
   "execution_count": 2,
   "metadata": {
    "pycharm": {
     "name": "#%%\n"
    }
   },
   "outputs": [
    {
     "name": "stdout",
     "output_type": "stream",
     "text": [
      "Directory ../figures/hdpe already exists replacing files in this notebook\n"
     ]
    }
   ],
   "source": [
    "import os\n",
    "\n",
    "dataset_config = config.DatasetConfig(scenario=\"hdpe\")\n",
    "\n",
    "assert(dataset_config.scenario == \"magical_sinus\"\n",
    "      or dataset_config.scenario == \"hdpe\")\n",
    "fig_dir = f\"../figures/{dataset_config.scenario}\"\n",
    "\n",
    "try:\n",
    "    os.mkdir(fig_dir)\n",
    "    print(f\"Directory {fig_dir} created \")\n",
    "except FileExistsError:\n",
    "    print(f\"Directory {fig_dir} already exists replacing files in this notebook\")"
   ]
  },
  {
   "cell_type": "code",
   "execution_count": 3,
   "metadata": {
    "pycharm": {
     "name": "#%%\n"
    }
   },
   "outputs": [],
   "source": [
    "exp_config = config.Config(\n",
    "    model=config.ModelConfig(activation=\"elu\", lr_gen=0.0001, lr_disc=0.0001,\n",
    "                             optim_gen=\"Adam\", optim_disc=\"Adam\", z_input_size=5),\n",
    "    training=config.TrainingConfig(n_epochs=10000, batch_size=100, n_samples=500),\n",
    "    dataset=dataset_config,\n",
    "    run=config.RunConfig(save_fig=1)\n",
    ")"
   ]
  },
  {
   "cell_type": "code",
   "execution_count": 4,
   "metadata": {
    "pycharm": {
     "name": "#%%\n"
    }
   },
   "outputs": [],
   "source": [
    "# Set random seed\n",
    "np.random.seed(exp_config.model.random_seed)\n",
    "random.seed(exp_config.model.random_seed)\n",
    "\n",
    "from tensorflow import set_random_seed\n",
    "set_random_seed(exp_config.model.random_seed)"
   ]
  },
  {
   "cell_type": "code",
   "execution_count": 5,
   "metadata": {
    "pycharm": {
     "name": "#%%\n"
    }
   },
   "outputs": [],
   "source": [
    "X_train, y_train, X_valid, y_valid = dataset.get_dataset(scenario=exp_config.dataset.scenario,\n",
    "                                                                         seed=exp_config.model.random_seed)"
   ]
  },
  {
   "cell_type": "code",
   "execution_count": 6,
   "metadata": {
    "collapsed": false,
    "pycharm": {
     "name": "#%% data nomalization\n"
    }
   },
   "outputs": [],
   "source": [
    "from sklearn.preprocessing import StandardScaler\n",
    "X_scaler = StandardScaler()\n",
    "X_train_scaled = X_scaler.fit_transform(X_train)\n",
    "X_valid_scaled = X_scaler.transform(X_valid)\n",
    "\n",
    "y_scaler = StandardScaler()\n",
    "y_train_scaled = y_scaler.fit_transform(y_train.reshape(-1, 1))\n",
    "y_valid_scaled = y_scaler.transform(y_valid.reshape(-1, 1))"
   ]
  },
  {
   "cell_type": "markdown",
   "metadata": {},
   "source": [
    "## Gaussian Process"
   ]
  },
  {
   "cell_type": "code",
   "execution_count": 14,
   "metadata": {
    "pycharm": {
     "name": "#%%\n"
    }
   },
   "outputs": [
    {
     "data": {
      "text/plain": "HBox(children=(VBox(children=(IntProgress(value=0, max=1000), HTML(value=''))), Box(children=(HTML(value=''),)…",
      "application/vnd.jupyter.widget-view+json": {
       "version_major": 2,
       "version_minor": 0,
       "model_id": "fe05bb653962433490dfa94513b33ac1"
      }
     },
     "metadata": {},
     "output_type": "display_data"
    },
    {
     "data": {
      "text/plain": "<Figure size 432x288 with 1 Axes>",
      "image/png": "[encoded data removed]"
     },
     "metadata": {
      "needs_background": "light"
     },
     "output_type": "display_data"
    }
   ],
   "source": [
    "import GPy\n",
    "\n",
    "\n",
    "variance = 0.1\n",
    "length = 1\n",
    "\n",
    "kernel = GPy.kern.RBF(input_dim=15, variance=variance, lengthscale=length)\n",
    "gpr = GPy.models.GPRegression(X_train_scaled, y_train_scaled, kernel)\n",
    "\n",
    "run_hyperopt_search = True\n",
    "if run_hyperopt_search:\n",
    "    gpr.optimize(messages=True)\n",
    "ypred_gp_val, cov = gpr.predict(X_valid_scaled)\n",
    "plotting.plot_densities_joint(y_valid, None, None, y_scaler.inverse_transform(ypred_gp_val),\n",
    "                             title=f\"Marginalized $P(y)$\", fig_dir=fig_dir,\n",
    "                             prefix=\"marginalized_P(y)\", save_fig=exp_config.run.save_fig)"
   ]
  },
  {
   "cell_type": "markdown",
   "metadata": {},
   "source": [
    "##  CGAN"
   ]
  },
  {
   "cell_type": "code",
   "execution_count": null,
   "metadata": {
    "pycharm": {
     "name": "#%%\n"
    }
   },
   "outputs": [],
   "source": [
    "cgan = cgan_model.CGAN(exp_config)\n",
    "d_loss_err, d_loss_true, d_loss_fake, g_loss_err, g_pred, g_true = cgan.train(X_train_scaled, y_train_scaled,\n",
    "                                                                              epochs=exp_config.training.n_epochs,\n",
    "                                                                              batch_size=exp_config.training.batch_size,\n",
    "                                                                              verbose=False)"
   ]
  },
  {
   "cell_type": "code",
   "execution_count": null,
   "metadata": {
    "pycharm": {
     "name": "#%%\n"
    }
   },
   "outputs": [],
   "source": [
    "ypred_single_cgan_val = cgan.predict(X_valid_scaled)"
   ]
  },
  {
   "cell_type": "code",
   "execution_count": null,
   "metadata": {
    "pycharm": {
     "name": "#%%\n"
    }
   },
   "outputs": [],
   "source": [
    "ypred_mean_cgan_val, _, _ = cgan.sample(X_valid_scaled, exp_config.training.n_samples)"
   ]
  },
  {
   "cell_type": "code",
   "execution_count": null,
   "metadata": {
    "collapsed": false,
    "pycharm": {
     "name": "#%% inverse normalization\n"
    }
   },
   "outputs": [],
   "source": [
    "ypred_gp_val = y_scaler.inverse_transform(ypred_gp_val)\n",
    "ypred_single_cgan_val = y_scaler.inverse_transform(ypred_single_cgan_val)\n",
    "ypred_mean_cgan_val = y_scaler.inverse_transform(ypred_mean_cgan_val)"
   ]
  },
  {
   "cell_type": "code",
   "execution_count": null,
   "metadata": {
    "pycharm": {
     "name": "#%%\n"
    }
   },
   "outputs": [],
   "source": [
    "plotting.plots(d_loss_err, d_loss_true, d_loss_fake, g_loss_err, g_pred, g_true, fig_dir, exp_config.run.save_fig)"
   ]
  },
  {
   "cell_type": "markdown",
   "metadata": {
    "pycharm": {
     "name": "#%% md\n"
    }
   },
   "source": [
    "## Predictions"
   ]
  },
  {
   "cell_type": "code",
   "execution_count": null,
   "metadata": {
    "pycharm": {
     "name": "#%%\n"
    }
   },
   "outputs": [],
   "source": [
    "plotting.plot_densities_joint(y_valid, ypred_single_cgan_val, ypred_mean_cgan_val, ypred_gp_val,\n",
    "                             title=f\"Marginalized $P(y)$\", fig_dir=fig_dir,\n",
    "                             prefix=\"marginalized_P(y)\", save_fig=exp_config.run.save_fig)"
   ]
  },
  {
   "cell_type": "code",
   "execution_count": null,
   "metadata": {
    "pycharm": {
     "name": "#%%\n"
    }
   },
   "outputs": [],
   "source": [
    "plotting.plot_ypred_error(y_valid, ypred_single_cgan_val, ypred_mean_cgan_val, ypred_gp_val,\n",
    "                          fig_dir=fig_dir, prefix=\"single_mean_cgan_gp\", save_fig=exp_config.run.save_fig)"
   ]
  },
  {
   "cell_type": "markdown",
   "metadata": {
    "pycharm": {
     "name": "#%% md\n"
    }
   },
   "source": [
    "## Metrics on validation samples"
   ]
  },
  {
   "cell_type": "code",
   "execution_count": null,
   "metadata": {
    "pycharm": {
     "name": "#%%\n"
    }
   },
   "outputs": [],
   "source": [
    "from sklearn.metrics import mean_absolute_error, mean_squared_error\n",
    "\n",
    "single_cgan_mae_list = []\n",
    "single_cgan_mse_list= []\n",
    "\n",
    "mean_cgan_mae_list = []\n",
    "mean_cgan_mse_list = []\n",
    "\n",
    "gp_mae_list = []\n",
    "gp_mse_list =[]\n",
    "\n",
    "n_eval_runs = 50\n",
    "for i in range(n_eval_runs):\n",
    "    ypred_single_cgan = cgan.predict(X_valid_scaled)\n",
    "    single_cgan_mae_list.append(mean_absolute_error(y_valid, y_scaler.inverse_transform(ypred_single_cgan)))\n",
    "    single_cgan_mse_list.append(mean_squared_error(y_valid, y_scaler.inverse_transform(ypred_single_cgan)))\n",
    "\n",
    "    ypred_mean_cgan, _, _ = cgan.sample(X_valid_scaled, exp_config.training.n_samples)\n",
    "    mean_cgan_mae_list.append(mean_absolute_error(y_valid, y_scaler.inverse_transform(ypred_mean_cgan)))\n",
    "    mean_cgan_mse_list.append(mean_squared_error(y_valid, y_scaler.inverse_transform(ypred_mean_cgan)))\n",
    "\n",
    "    y_pred_gp, cov = gpr.predict(X_valid_scaled)\n",
    "    yped_gp = np.random.normal(y_pred_gp, np.sqrt(cov))\n",
    "    gp_mae_list.append(mean_absolute_error(y_valid, y_scaler.inverse_transform(yped_gp)))\n",
    "    gp_mse_list.append(mean_squared_error(y_valid, y_scaler.inverse_transform(yped_gp)))"
   ]
  },
  {
   "cell_type": "code",
   "execution_count": null,
   "metadata": {
    "collapsed": false,
    "pycharm": {
     "name": "#%%\n"
    }
   },
   "outputs": [],
   "source": [
    "single_cgan_mae_mean, single_cgan_mae_std = np.mean(np.asarray(single_cgan_mae_list)), np.std(np.asarray(single_cgan_mae_list))\n",
    "single_cgan_mse_mean, single_cgan_mse_std = np.mean(np.asarray(single_cgan_mse_list)), np.std(np.asarray(single_cgan_mse_list))\n",
    "\n",
    "print(f\"Single CGAN validation MAE: {single_cgan_mae_mean:.3e} +- {single_cgan_mae_std:.5e}\")\n",
    "print(f\"Single CGAN validation MSE: {single_cgan_mse_mean:.3e} +- {single_cgan_mse_std:.5e}\")\n",
    "\n",
    "mean_cgan_mae_mean, mean_cgan_mae_std = np.mean(np.asarray(mean_cgan_mae_list)), np.std(np.asarray(mean_cgan_mae_list))\n",
    "mean_cgan_mse_mean, mean_cgan_mse_std = np.mean(np.asarray(mean_cgan_mse_list)), np.std(np.asarray(mean_cgan_mse_list))\n",
    "\n",
    "print(f\"Mean CGAN validation MAE: {mean_cgan_mae_mean:.3e} +- {mean_cgan_mae_std:.5e}\")\n",
    "print(f\"Mean CGAN validation MSE: {mean_cgan_mse_mean:.3e} +- {mean_cgan_mse_std:.5e}\")\n",
    "\n",
    "gp_mae_mean, gp_mae_std = np.mean(np.asarray(gp_mae_list)), np.std(np.asarray(gp_mae_list))\n",
    "gp_mse_mean, gp_mse_std = np.mean(np.asarray(gp_mse_list)), np.std(np.asarray(gp_mse_list))\n",
    "print(f\"GP validation MAE: {gp_mae_mean:.3e} +- {gp_mae_std:.5e}\")\n",
    "print(f\"GP validation MSE: {gp_mse_mean:.3e} +- {gp_mse_std:.5e}\")"
   ]
  },
  {
   "cell_type": "code",
   "execution_count": null,
   "metadata": {
    "pycharm": {
     "name": "#%%\n"
    }
   },
   "outputs": [],
   "source": [
    "nlpd_list = []\n",
    "for i in range(n_eval_runs):\n",
    "    y_pred_gp, cov = gpr.predict(X_valid_scaled)\n",
    "    nlpd_list.append(metrics.gaussian_NLPD(y_valid,\n",
    "                                           np.random.normal(y_scaler.inverse_transform(ypred_gp_val), np.sqrt(cov)),\n",
    "                                           cov))\n",
    "gp_nlpd_mean = np.mean(nlpd_list)\n",
    "gp_nlpd_std = np.std(nlpd_list)\n",
    "print(f\"GP validation NLPD: {gp_nlpd_mean:.3f} +- {gp_nlpd_std:.5f}\")"
   ]
  },
  {
   "cell_type": "code",
   "execution_count": null,
   "metadata": {
    "pycharm": {
     "name": "#%%\n"
    }
   },
   "outputs": [],
   "source": [
    "nlpd_list = []\n",
    "for i in range(n_eval_runs):\n",
    "    ypred_single_cgan = cgan.predict(X_valid_scaled)\n",
    "    cov = np.ones(len(ypred_single_cgan))* np.mean((y_valid - y_scaler.inverse_transform(ypred_single_cgan))**2)\n",
    "    nlpd_list.append(metrics.gaussian_NLPD(y_valid, y_scaler.inverse_transform(ypred_single_cgan), cov))\n",
    "single_cgan_nlpd_mean = np.mean(nlpd_list)\n",
    "single_cgan_nlpd_std = np.std(nlpd_list)\n",
    "print(f\"Single CGAN Validation NLPD: {single_cgan_nlpd_mean:.3f} +- {single_cgan_nlpd_std:.5f}\")"
   ]
  },
  {
   "cell_type": "code",
   "execution_count": null,
   "metadata": {
    "pycharm": {
     "name": "#%%\n"
    }
   },
   "outputs": [],
   "source": [
    "_, w, _ = metrics.Parzen(cgan, X_valid_scaled, y_valid_scaled)\n",
    "nlpd_list = []\n",
    "for i in range(n_eval_runs):\n",
    "    nlpd_list.append(metrics.Parzen_test(cgan, X_valid_scaled, y_valid_scaled, 0.01, exp_config.training.n_samples))\n",
    "mean_cgan_nlpd_mean = np.mean(nlpd_list)\n",
    "mean_cgan_nlpd_std = np.std(nlpd_list)\n",
    "print(f\"Mean CGAN Validation NLPD: {mean_cgan_nlpd_mean:.3f} +- {mean_cgan_nlpd_std:.5f}\")"
   ]
  },
  {
   "cell_type": "code",
   "execution_count": null,
   "metadata": {
    "pycharm": {
     "name": "#%%\n"
    }
   },
   "outputs": [],
   "source": [
    "if exp_config.run.save_fig:\n",
    "\n",
    "    try:\n",
    "        file = open(f\"{fig_dir}/metrics_on_hdpe.txt\",\"w\")\n",
    "    except FileExistsError:\n",
    "        print(f\" {fig_dir} was failed to create.\")\n",
    "\n",
    "    file.write(f\"===Validation MAE===\\n\")\n",
    "    file.write(f\"GP validation MAE: {gp_mae_mean} +- {gp_mae_std}\\n\")\n",
    "    file.write(f\"Single CGAN validation MAE: {single_cgan_mae_mean} +- {single_cgan_mae_std}\\n\")\n",
    "    file.write(f\"Mean CGAN validation MAE: {mean_cgan_mae_mean} +- {mean_cgan_mae_std}\\n\")\n",
    "    file.write(f\"===Validation MSE===\\n\")\n",
    "    file.write(f\"GP validation MSE: {gp_mse_mean} +- {gp_mse_std}\\n\")\n",
    "    file.write(f\"Single CGAN validation MSE: {single_cgan_mse_mean} +- {single_cgan_mse_std}\\n\")\n",
    "    file.write(f\"CGAN validation MSE: {mean_cgan_mse_mean} +- {mean_cgan_mse_std}\\n\")\n",
    "    file.write(f\"===Validation NLPD===\\n\")\n",
    "    file.write(f\"GP Gaussian NLPD: {gp_nlpd_mean} +- {gp_nlpd_std}\\n\")\n",
    "    file.write(f\"Single CGAN NLPD: {single_cgan_nlpd_mean} +- {single_cgan_nlpd_std}\\n\")\n",
    "    file.write(f\"Mean CGAN NLPD: {mean_cgan_nlpd_mean} +- {mean_cgan_nlpd_std}\\n\")\n",
    "    file.close()"
   ]
  }
 ],
 "metadata": {
  "kernelspec": {
   "display_name": "PyCharm (ganRegression)",
   "language": "python",
   "name": "pycharm-25d74700"
  },
  "language_info": {
   "codemirror_mode": {
    "name": "ipython",
    "version": 3
   },
   "file_extension": ".py",
   "mimetype": "text/x-python",
   "name": "python",
   "nbconvert_exporter": "python",
   "pygments_lexer": "ipython3",
   "version": "3.6.10"
  }
 },
 "nbformat": 4,
 "nbformat_minor": 1
}
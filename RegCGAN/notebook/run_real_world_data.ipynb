{
 "cells": [
  {
   "cell_type": "code",
   "execution_count": 32,
   "metadata": {},
   "outputs": [
    {
     "data": {
      "text/plain": [
       "<module 'models.cgan_model' from '/Users/zhongsheng/Documents/GitWorkspace/ganRegression/models/cgan_model.py'>"
      ]
     },
     "execution_count": 32,
     "metadata": {},
     "output_type": "execute_result"
    }
   ],
   "source": [
    "import importlib\n",
    "\n",
    "import dataset, metrics, plotting, config, network\n",
    "from models import cgan_model\n",
    "import numpy as np\n",
    "import random\n",
    "\n",
    "importlib.reload(network)\n",
    "importlib.reload(dataset)\n",
    "importlib.reload(metrics)\n",
    "importlib.reload(plotting)\n",
    "importlib.reload(config)\n",
    "importlib.reload(cgan_model)"
   ]
  },
  {
   "cell_type": "code",
   "execution_count": 33,
   "metadata": {},
   "outputs": [
    {
     "name": "stdout",
     "output_type": "stream",
     "text": [
      "Directory ../figures/hdpe already exists replacing files in this notebook\n"
     ]
    }
   ],
   "source": [
    "import os\n",
    "\n",
    "dataset_config = config.DatasetConfig(scenario=\"hdpe\")\n",
    "\n",
    "assert(dataset_config.scenario == \"CA-housing\"\n",
    "      or dataset_config.scenario == \"ailerons\"\n",
    "      or dataset_config.scenario == \"CA-housing-single\"\n",
    "      or dataset_config.scenario == \"comp-activ\"\n",
    "      or dataset_config.scenario == \"pumadyn\"\n",
    "      or dataset_config.scenario == \"bank\"\n",
    "      or dataset_config.scenario == \"abalone\"\n",
    "      or dataset_config.scenario == \"census-house\"\n",
    "      or dataset_config.scenario == \"hdpe\")\n",
    "fig_dir = f\"../figures/{dataset_config.scenario}\"\n",
    "\n",
    "try:\n",
    "    os.mkdir(fig_dir)\n",
    "    print(f\"Directory {fig_dir} created \") \n",
    "except FileExistsError:\n",
    "    print(f\"Directory {fig_dir} already exists replacing files in this notebook\")"
   ]
  },
  {
   "cell_type": "code",
   "execution_count": 34,
   "metadata": {},
   "outputs": [],
   "source": [
    "random_seed = 1992\n",
    "\n",
    "if dataset_config.scenario == \"CA-housing\" or dataset_config.scenario == \"CA-housing-single\":\n",
    "    exp_config = config.Config(\n",
    "        model=config.ModelConfig(activation=\"elu\", lr_gen=0.0001, lr_disc=0.001, dec_gen=0, dec_disc=0, \n",
    "                                 optim_gen=\"Adam\", optim_disc=\"Adam\", z_input_size=1, random_seed=random_seed),\n",
    "        training=config.TrainingConfig(n_epochs=500, batch_size=20, n_samples=50),\n",
    "        dataset=dataset_config,\n",
    "        run=config.RunConfig(save_fig=1)\n",
    "    )\n",
    "    \n",
    "elif dataset_config.scenario == \"ailerons\":\n",
    "    exp_config = config.Config(\n",
    "        model=config.ModelConfig(activation=\"elu\", lr_gen=0.0001, lr_disc=0.0005, dec_gen=0, dec_disc=0, \n",
    "                                 optim_gen=\"Adam\", optim_disc=\"Adam\", z_input_size=1, random_seed=random_seed),\n",
    "        training=config.TrainingConfig(n_epochs=500, batch_size=100, n_samples=50),\n",
    "        dataset=dataset_config,\n",
    "        run=config.RunConfig(save_fig=1)\n",
    "    )\n",
    "    \n",
    "elif dataset_config.scenario == \"comp-activ\":\n",
    "    exp_config = config.Config(\n",
    "        model=config.ModelConfig(activation=\"elu\", lr_gen=0.005, lr_disc=0.001, dec_gen=0.0001, dec_disc=0, \n",
    "                                 optim_gen=\"Adam\", optim_disc=\"Adam\", z_input_size=1, random_seed=random_seed),\n",
    "        training=config.TrainingConfig(n_epochs=500, batch_size=100, n_samples=50),\n",
    "        dataset=dataset_config,\n",
    "        run=config.RunConfig(save_fig=1)\n",
    "    )\n",
    "    \n",
    "elif dataset_config.scenario == \"pumadyn\":\n",
    "    exp_config = config.Config(\n",
    "        model=config.ModelConfig(activation=\"elu\", lr_gen=0.001, lr_disc=0.001, dec_gen=0.001, dec_disc=0.001, \n",
    "                                 optim_gen=\"Adam\", optim_disc=\"Adam\", z_input_size=1, random_seed=random_seed),\n",
    "        training=config.TrainingConfig(n_epochs=500, batch_size=100, n_samples=50),\n",
    "        dataset=dataset_config,\n",
    "        run=config.RunConfig(save_fig=1)\n",
    "    )\n",
    "    \n",
    "elif dataset_config.scenario == \"bank\":\n",
    "    exp_config = config.Config(\n",
    "        model=config.ModelConfig(activation=\"elu\", lr_gen=0.001, lr_disc=0.001, dec_gen=0.001, dec_disc=0, \n",
    "                                 optim_gen=\"Adam\", optim_disc=\"Adam\", z_input_size=1, random_seed=random_seed),\n",
    "        training=config.TrainingConfig(n_epochs=500, batch_size=100, n_samples=50),\n",
    "        dataset=dataset_config,\n",
    "        run=config.RunConfig(save_fig=1)\n",
    "    )\n",
    "    \n",
    "elif dataset_config.scenario == \"abalone\":\n",
    "    exp_config = config.Config(\n",
    "        model=config.ModelConfig(activation=\"elu\", lr_gen=0.001, lr_disc=0.001, dec_gen=0.001, dec_disc=0, \n",
    "                                 optim_gen=\"Adam\", optim_disc=\"Adam\", z_input_size=1, random_seed=random_seed),\n",
    "        training=config.TrainingConfig(n_epochs=500, batch_size=100, n_samples=50),\n",
    "        dataset=dataset_config,\n",
    "        run=config.RunConfig(save_fig=1)\n",
    "    )\n",
    "    \n",
    "elif dataset_config.scenario == \"census-house\":\n",
    "    exp_config = config.Config(\n",
    "        model=config.ModelConfig(activation=\"elu\", lr_gen=0.001, lr_disc=0.001, dec_gen=0.0001, dec_disc=0, \n",
    "                                 optim_gen=\"Adam\", optim_disc=\"Adam\", z_input_size=1, random_seed=random_seed),\n",
    "        training=config.TrainingConfig(n_epochs=500, batch_size=100, n_samples=50),\n",
    "        dataset=dataset_config,\n",
    "        run=config.RunConfig(save_fig=1)\n",
    "    )\n",
    "\n",
    "elif dataset_config.scenario == \"hdpe\":\n",
    "    exp_config = config.Config(\n",
    "        model=config.ModelConfig(activation=\"elu\", lr_gen=0.001, lr_disc=0.001, dec_gen=0.0001, dec_disc=0,\n",
    "                                 optim_gen=\"Adam\", optim_disc=\"Adam\", z_input_size=1, random_seed=random_seed),\n",
    "        training=config.TrainingConfig(n_epochs=500, batch_size=20, n_samples=50),\n",
    "        dataset=dataset_config,\n",
    "        run=config.RunConfig(save_fig=1)\n",
    "    )\n"
   ]
  },
  {
   "cell_type": "code",
   "execution_count": 35,
   "metadata": {},
   "outputs": [],
   "source": [
    "# Set random seed\n",
    "np.random.seed(exp_config.model.random_seed)\n",
    "random.seed(exp_config.model.random_seed)\n",
    "\n",
    "from tensorflow import set_random_seed\n",
    "set_random_seed(exp_config.model.random_seed)"
   ]
  },
  {
   "cell_type": "code",
   "execution_count": 36,
   "metadata": {},
   "outputs": [],
   "source": [
    "X_train, y_train, X_test, y_test, X_valid, y_valid = dataset.get_dataset(scenario=exp_config.dataset.scenario, \n",
    "                                                                         seed=exp_config.model.random_seed)"
   ]
  },
  {
   "cell_type": "code",
   "execution_count": 37,
   "metadata": {},
   "outputs": [
    {
     "data": {
      "text/plain": [
       "((67, 15), 34, 34)"
      ]
     },
     "execution_count": 37,
     "metadata": {},
     "output_type": "execute_result"
    }
   ],
   "source": [
    "X_train.shape, len(X_valid), len(X_test)"
   ]
  },
  {
   "cell_type": "code",
   "execution_count": 38,
   "metadata": {},
   "outputs": [],
   "source": [
    "from sklearn.preprocessing import StandardScaler\n",
    "\n",
    "scaler = StandardScaler()\n",
    "X_train_scaled = scaler.fit_transform(X_train)\n",
    "X_valid_scaled = scaler.transform(X_valid)\n",
    "X_test_scaled = scaler.transform(X_test)"
   ]
  },
  {
   "cell_type": "markdown",
   "metadata": {},
   "source": [
    "# GAN"
   ]
  },
  {
   "cell_type": "code",
   "execution_count": 39,
   "metadata": {},
   "outputs": [
    {
     "name": "stderr",
     "output_type": "stream",
     "text": [
      "/Users/zhongsheng/anaconda2/envs/ganRegression/lib/python3.6/site-packages/keras/engine/training.py:493: UserWarning: Discrepancy between trainable weights and collected trainable weights, did you set `model.trainable` without calling `model.compile` after ?\n",
      "  'Discrepancy between trainable weights and collected trainable'\n"
     ]
    },
    {
     "name": "stdout",
     "output_type": "stream",
     "text": [
      "Epoch: 0 / dLoss: 1.65156888961792 / gLoss: 0.23636789619922638\n",
      "Epoch: 1 / dLoss: 0.5412917137145996 / gLoss: 2.8299107551574707\n",
      "Epoch: 2 / dLoss: 0.6928508281707764 / gLoss: 1.453298807144165\n",
      "Epoch: 3 / dLoss: 0.5767819881439209 / gLoss: 0.9284845590591431\n",
      "Epoch: 4 / dLoss: 0.6511238813400269 / gLoss: 1.463792324066162\n",
      "Epoch: 5 / dLoss: 0.6726608276367188 / gLoss: 1.1195296049118042\n",
      "Epoch: 6 / dLoss: 0.6733384728431702 / gLoss: 0.7262446880340576\n",
      "Epoch: 7 / dLoss: 0.5089893341064453 / gLoss: 1.7343721389770508\n",
      "Epoch: 8 / dLoss: 0.6635681986808777 / gLoss: 0.792194664478302\n",
      "Epoch: 9 / dLoss: 0.6461507081985474 / gLoss: 0.8150922656059265\n",
      "Epoch: 10 / dLoss: 0.6162903308868408 / gLoss: 0.8338650465011597\n",
      "Epoch: 11 / dLoss: 0.6218554973602295 / gLoss: 0.9180472493171692\n",
      "Epoch: 12 / dLoss: 0.6032882928848267 / gLoss: 0.8359639048576355\n",
      "Epoch: 13 / dLoss: 0.6256046295166016 / gLoss: 0.672289252281189\n",
      "Epoch: 14 / dLoss: 0.6278384923934937 / gLoss: 1.3642354011535645\n",
      "Epoch: 15 / dLoss: 0.5812767744064331 / gLoss: 1.2754656076431274\n",
      "Epoch: 16 / dLoss: 0.5399160385131836 / gLoss: 1.3215906620025635\n",
      "Epoch: 17 / dLoss: 0.7211686372756958 / gLoss: 0.8198890686035156\n",
      "Epoch: 18 / dLoss: 0.5114237070083618 / gLoss: 1.8885599374771118\n",
      "Epoch: 19 / dLoss: 0.5622354745864868 / gLoss: 1.8729079961776733\n",
      "Epoch: 20 / dLoss: 0.7099370956420898 / gLoss: 0.642454981803894\n",
      "Epoch: 21 / dLoss: 0.5575167536735535 / gLoss: 1.586854100227356\n",
      "Epoch: 22 / dLoss: 0.6592878103256226 / gLoss: 1.620043396949768\n",
      "Epoch: 23 / dLoss: 0.5052618384361267 / gLoss: 1.2872098684310913\n",
      "Epoch: 24 / dLoss: 0.556342601776123 / gLoss: 1.9314521551132202\n",
      "Epoch: 25 / dLoss: 0.6936300992965698 / gLoss: 1.0050121545791626\n",
      "Epoch: 26 / dLoss: 0.5914380550384521 / gLoss: 0.6975143551826477\n",
      "Epoch: 27 / dLoss: 0.42392468452453613 / gLoss: 2.0445351600646973\n",
      "Epoch: 28 / dLoss: 0.7649205327033997 / gLoss: 1.437009572982788\n",
      "Epoch: 29 / dLoss: 0.6610696315765381 / gLoss: 1.027483344078064\n",
      "Epoch: 30 / dLoss: 0.7900169491767883 / gLoss: 2.881722927093506\n",
      "Epoch: 31 / dLoss: 0.4755617380142212 / gLoss: 3.736706256866455\n",
      "Epoch: 32 / dLoss: 0.6298850178718567 / gLoss: 1.243857979774475\n",
      "Epoch: 33 / dLoss: 0.6380020380020142 / gLoss: 1.231153130531311\n",
      "Epoch: 34 / dLoss: 0.683456540107727 / gLoss: 1.3536056280136108\n",
      "Epoch: 35 / dLoss: 0.438621461391449 / gLoss: 2.3630471229553223\n",
      "Epoch: 36 / dLoss: 0.6639857292175293 / gLoss: 0.912689208984375\n",
      "Epoch: 37 / dLoss: 0.5862975716590881 / gLoss: 1.6963573694229126\n",
      "Epoch: 38 / dLoss: 0.7149239778518677 / gLoss: 1.1775319576263428\n",
      "Epoch: 39 / dLoss: 0.46263545751571655 / gLoss: 1.974984884262085\n",
      "Epoch: 40 / dLoss: 0.4221951961517334 / gLoss: 2.0387020111083984\n",
      "Epoch: 41 / dLoss: 0.4544963240623474 / gLoss: 1.787029504776001\n",
      "Epoch: 42 / dLoss: 0.43347644805908203 / gLoss: 3.2133419513702393\n",
      "Epoch: 43 / dLoss: 0.9062432646751404 / gLoss: 0.6182246208190918\n",
      "Epoch: 44 / dLoss: 0.26271572709083557 / gLoss: 3.9607417583465576\n",
      "Epoch: 45 / dLoss: 0.27347859740257263 / gLoss: 3.6099441051483154\n",
      "Epoch: 46 / dLoss: 0.8695602416992188 / gLoss: 1.0824975967407227\n",
      "Epoch: 47 / dLoss: 0.614637017250061 / gLoss: 1.747629165649414\n",
      "Epoch: 48 / dLoss: 0.7340729236602783 / gLoss: 0.5962475538253784\n",
      "Epoch: 49 / dLoss: 0.5321704149246216 / gLoss: 2.860097646713257\n",
      "Epoch: 50 / dLoss: 0.7349230051040649 / gLoss: 0.7758649587631226\n",
      "Epoch: 51 / dLoss: 0.517839789390564 / gLoss: 2.142575740814209\n",
      "Epoch: 52 / dLoss: 0.7833256125450134 / gLoss: 0.5378517508506775\n",
      "Epoch: 53 / dLoss: 0.43140316009521484 / gLoss: 2.795224666595459\n",
      "Epoch: 54 / dLoss: 0.46645060181617737 / gLoss: 3.0320358276367188\n",
      "Epoch: 55 / dLoss: 0.5927379727363586 / gLoss: 1.5689849853515625\n",
      "Epoch: 56 / dLoss: 0.6466829776763916 / gLoss: 1.0693190097808838\n",
      "Epoch: 57 / dLoss: 0.825900673866272 / gLoss: 0.6499198079109192\n",
      "Epoch: 58 / dLoss: 0.4667244255542755 / gLoss: 2.406900405883789\n",
      "Epoch: 59 / dLoss: 0.7930747270584106 / gLoss: 1.675426721572876\n",
      "Epoch: 60 / dLoss: 0.303912490606308 / gLoss: 3.3606624603271484\n",
      "Epoch: 61 / dLoss: 0.7034708261489868 / gLoss: 1.0655517578125\n",
      "Epoch: 62 / dLoss: 0.9467482566833496 / gLoss: 0.7157865166664124\n",
      "Epoch: 63 / dLoss: 0.24097847938537598 / gLoss: 4.399593830108643\n",
      "Epoch: 64 / dLoss: 0.35198116302490234 / gLoss: 2.12209153175354\n",
      "Epoch: 65 / dLoss: 0.6080348491668701 / gLoss: 1.7665706872940063\n",
      "Epoch: 66 / dLoss: 0.628717303276062 / gLoss: 0.5762695074081421\n",
      "Epoch: 67 / dLoss: 0.7787524461746216 / gLoss: 0.8410392999649048\n",
      "Epoch: 68 / dLoss: 0.3377966284751892 / gLoss: 3.164072036743164\n",
      "Epoch: 69 / dLoss: 0.7481483221054077 / gLoss: 1.0423752069473267\n",
      "Epoch: 70 / dLoss: 0.3862287402153015 / gLoss: 3.1910691261291504\n",
      "Epoch: 71 / dLoss: 0.70005863904953 / gLoss: 0.8776141405105591\n",
      "Epoch: 72 / dLoss: 0.674302339553833 / gLoss: 0.7393208742141724\n",
      "Epoch: 73 / dLoss: 0.2542051672935486 / gLoss: 4.531927585601807\n",
      "Epoch: 74 / dLoss: 0.5887748599052429 / gLoss: 2.5578370094299316\n",
      "Epoch: 75 / dLoss: 0.5357578992843628 / gLoss: 1.7141870260238647\n",
      "Epoch: 76 / dLoss: 0.5959107875823975 / gLoss: 1.8119943141937256\n",
      "Epoch: 77 / dLoss: 0.9330153465270996 / gLoss: 0.6164723634719849\n",
      "Epoch: 78 / dLoss: 0.271820604801178 / gLoss: 3.665470838546753\n",
      "Epoch: 79 / dLoss: 0.5203782320022583 / gLoss: 2.318828582763672\n",
      "Epoch: 80 / dLoss: 0.58253014087677 / gLoss: 1.3101727962493896\n",
      "Epoch: 81 / dLoss: 0.39399459958076477 / gLoss: 1.6582081317901611\n",
      "Epoch: 82 / dLoss: 0.944025993347168 / gLoss: 0.6753510236740112\n",
      "Epoch: 83 / dLoss: 0.4040974974632263 / gLoss: 2.674396276473999\n",
      "Epoch: 84 / dLoss: 0.38145381212234497 / gLoss: 3.8511548042297363\n",
      "Epoch: 85 / dLoss: 0.7722437381744385 / gLoss: 0.4586809277534485\n",
      "Epoch: 86 / dLoss: 0.5093340873718262 / gLoss: 1.7164623737335205\n",
      "Epoch: 87 / dLoss: 0.4618033170700073 / gLoss: 1.5247433185577393\n",
      "Epoch: 88 / dLoss: 0.8723127245903015 / gLoss: 0.6848123669624329\n",
      "Epoch: 89 / dLoss: 0.27741843461990356 / gLoss: 5.301692008972168\n",
      "Epoch: 90 / dLoss: 0.41611814498901367 / gLoss: 2.9285192489624023\n",
      "Epoch: 91 / dLoss: 0.8409808874130249 / gLoss: 0.7113181352615356\n",
      "Epoch: 92 / dLoss: 0.3319357633590698 / gLoss: 4.396366119384766\n",
      "Epoch: 93 / dLoss: 0.6204196214675903 / gLoss: 1.061332106590271\n",
      "Epoch: 94 / dLoss: 0.6950119733810425 / gLoss: 1.4081741571426392\n",
      "Epoch: 95 / dLoss: 0.2323152869939804 / gLoss: 5.997554779052734\n",
      "Epoch: 96 / dLoss: 0.5802247524261475 / gLoss: 1.2112587690353394\n",
      "Epoch: 97 / dLoss: 0.5115472078323364 / gLoss: 1.9628429412841797\n",
      "Epoch: 98 / dLoss: 0.4771130084991455 / gLoss: 2.5331063270568848\n",
      "Epoch: 99 / dLoss: 0.5966784358024597 / gLoss: 1.6837282180786133\n",
      "Epoch: 100 / dLoss: 0.5335519313812256 / gLoss: 1.8224821090698242\n",
      "Epoch: 101 / dLoss: 0.7286205291748047 / gLoss: 1.243591070175171\n",
      "Epoch: 102 / dLoss: 0.5973546504974365 / gLoss: 2.1088054180145264\n",
      "Epoch: 103 / dLoss: 0.6199266910552979 / gLoss: 1.164664626121521\n",
      "Epoch: 104 / dLoss: 0.5839974880218506 / gLoss: 1.3654438257217407\n",
      "Epoch: 105 / dLoss: 0.5337108969688416 / gLoss: 1.8386369943618774\n",
      "Epoch: 106 / dLoss: 0.6476743221282959 / gLoss: 0.7337130308151245\n",
      "Epoch: 107 / dLoss: 0.41967907547950745 / gLoss: 2.947366714477539\n",
      "Epoch: 108 / dLoss: 0.9388413429260254 / gLoss: 0.47065678238868713\n",
      "Epoch: 109 / dLoss: 0.321216344833374 / gLoss: 3.979560375213623\n",
      "Epoch: 110 / dLoss: 0.4467262923717499 / gLoss: 1.7967281341552734\n",
      "Epoch: 111 / dLoss: 0.7973878979682922 / gLoss: 0.8964104652404785\n",
      "Epoch: 112 / dLoss: 0.4460820257663727 / gLoss: 2.588683605194092\n",
      "Epoch: 113 / dLoss: 0.834892988204956 / gLoss: 0.48059549927711487\n",
      "Epoch: 114 / dLoss: 0.8019301891326904 / gLoss: 0.9438179135322571\n",
      "Epoch: 115 / dLoss: 0.33212387561798096 / gLoss: 3.880138397216797\n",
      "Epoch: 116 / dLoss: 0.6949750185012817 / gLoss: 1.672694444656372\n",
      "Epoch: 117 / dLoss: 0.6136859655380249 / gLoss: 1.3993407487869263\n",
      "Epoch: 118 / dLoss: 0.4907510280609131 / gLoss: 1.8080974817276\n",
      "Epoch: 119 / dLoss: 1.185234546661377 / gLoss: 0.38285407423973083\n",
      "Epoch: 120 / dLoss: 0.36598271131515503 / gLoss: 3.7551722526550293\n",
      "Epoch: 121 / dLoss: 0.4312366545200348 / gLoss: 5.171163082122803\n",
      "Epoch: 122 / dLoss: 0.6905162334442139 / gLoss: 0.5191667079925537\n",
      "Epoch: 123 / dLoss: 0.656830370426178 / gLoss: 1.1974270343780518\n",
      "Epoch: 124 / dLoss: 0.6168599128723145 / gLoss: 1.2054227590560913\n",
      "Epoch: 125 / dLoss: 0.6417644023895264 / gLoss: 0.7385374903678894\n",
      "Epoch: 126 / dLoss: 0.8738597631454468 / gLoss: 0.6844719052314758\n",
      "Epoch: 127 / dLoss: 0.9123145937919617 / gLoss: 0.6325061321258545\n",
      "Epoch: 128 / dLoss: 0.7057792544364929 / gLoss: 0.8890136480331421\n",
      "Epoch: 129 / dLoss: 0.47217851877212524 / gLoss: 1.8024749755859375\n",
      "Epoch: 130 / dLoss: 0.39390891790390015 / gLoss: 2.0424375534057617\n",
      "Epoch: 131 / dLoss: 0.9410627484321594 / gLoss: 0.5746491551399231\n",
      "Epoch: 132 / dLoss: 0.4938192367553711 / gLoss: 4.202597618103027\n",
      "Epoch: 133 / dLoss: 1.3339860439300537 / gLoss: 0.469534307718277\n",
      "Epoch: 134 / dLoss: 0.30367645621299744 / gLoss: 5.771082401275635\n",
      "Epoch: 135 / dLoss: 0.32392647862434387 / gLoss: 5.172817230224609\n",
      "Epoch: 136 / dLoss: 0.8914911150932312 / gLoss: 0.3394755721092224\n",
      "Epoch: 137 / dLoss: 0.7128416299819946 / gLoss: 1.05460524559021\n",
      "Epoch: 138 / dLoss: 0.3187011182308197 / gLoss: 2.736588478088379\n",
      "Epoch: 139 / dLoss: 0.5806174874305725 / gLoss: 0.9686474800109863\n",
      "Epoch: 140 / dLoss: 0.7825969457626343 / gLoss: 0.8073051571846008\n",
      "Epoch: 141 / dLoss: 0.29248613119125366 / gLoss: 4.640988349914551\n",
      "Epoch: 142 / dLoss: 0.4765291213989258 / gLoss: 2.920058012008667\n",
      "Epoch: 143 / dLoss: 0.5627740621566772 / gLoss: 3.2610976696014404\n",
      "Epoch: 144 / dLoss: 0.42091649770736694 / gLoss: 3.454552173614502\n",
      "Epoch: 145 / dLoss: 0.7754188776016235 / gLoss: 2.4147768020629883\n",
      "Epoch: 146 / dLoss: 0.7014684677124023 / gLoss: 1.249476432800293\n",
      "Epoch: 147 / dLoss: 0.43242961168289185 / gLoss: 2.207036256790161\n",
      "Epoch: 148 / dLoss: 0.4541143476963043 / gLoss: 6.27393102645874\n",
      "Epoch: 149 / dLoss: 0.7667151093482971 / gLoss: 3.4180941581726074\n",
      "Epoch: 150 / dLoss: 0.4757840633392334 / gLoss: 2.7107367515563965\n",
      "Epoch: 151 / dLoss: 0.7958959937095642 / gLoss: 0.45145082473754883\n",
      "Epoch: 152 / dLoss: 0.7397096753120422 / gLoss: 0.6726457476615906\n",
      "Epoch: 153 / dLoss: 0.302827388048172 / gLoss: 4.782235145568848\n",
      "Epoch: 154 / dLoss: 0.556182861328125 / gLoss: 2.908750057220459\n",
      "Epoch: 155 / dLoss: 0.5361456871032715 / gLoss: 2.9669225215911865\n",
      "Epoch: 156 / dLoss: 0.27486464381217957 / gLoss: 4.432790756225586\n",
      "Epoch: 157 / dLoss: 0.7448917031288147 / gLoss: 2.3828842639923096\n",
      "Epoch: 158 / dLoss: 0.8350720405578613 / gLoss: 2.032884120941162\n",
      "Epoch: 159 / dLoss: 0.19267533719539642 / gLoss: 6.482569694519043\n",
      "Epoch: 160 / dLoss: 0.443230003118515 / gLoss: 2.6891140937805176\n",
      "Epoch: 161 / dLoss: 0.5003108382225037 / gLoss: 1.7671725749969482\n",
      "Epoch: 162 / dLoss: 0.300926148891449 / gLoss: 2.28010892868042\n",
      "Epoch: 163 / dLoss: 1.00518000125885 / gLoss: 0.38235726952552795\n",
      "Epoch: 164 / dLoss: 0.2877941429615021 / gLoss: 4.7483134269714355\n",
      "Epoch: 165 / dLoss: 0.35787081718444824 / gLoss: 3.597613573074341\n",
      "Epoch: 166 / dLoss: 0.6405978202819824 / gLoss: 1.4186835289001465\n",
      "Epoch: 167 / dLoss: 0.5682965517044067 / gLoss: 0.8861502408981323\n",
      "Epoch: 168 / dLoss: 0.7481552958488464 / gLoss: 0.5560070872306824\n",
      "Epoch: 169 / dLoss: 0.8784011602401733 / gLoss: 0.5492538213729858\n",
      "Epoch: 170 / dLoss: 0.5279781818389893 / gLoss: 1.872052788734436\n",
      "Epoch: 171 / dLoss: 0.4045152962207794 / gLoss: 2.427122116088867\n",
      "Epoch: 172 / dLoss: 0.8712605237960815 / gLoss: 0.9386945962905884\n",
      "Epoch: 173 / dLoss: 0.37880200147628784 / gLoss: 3.848156690597534\n",
      "Epoch: 174 / dLoss: 0.8563210368156433 / gLoss: 0.3765058219432831\n",
      "Epoch: 175 / dLoss: 0.4282686412334442 / gLoss: 2.2928149700164795\n",
      "Epoch: 176 / dLoss: 0.27800053358078003 / gLoss: 4.930569648742676\n",
      "Epoch: 177 / dLoss: 0.934760570526123 / gLoss: 0.38420310616493225\n",
      "Epoch: 178 / dLoss: 0.19289350509643555 / gLoss: 5.336648941040039\n",
      "Epoch: 179 / dLoss: 0.8677598237991333 / gLoss: 0.3322710394859314\n",
      "Epoch: 180 / dLoss: 0.6094042062759399 / gLoss: 1.0462048053741455\n",
      "Epoch: 181 / dLoss: 0.23913148045539856 / gLoss: 6.240658283233643\n",
      "Epoch: 182 / dLoss: 0.5844863653182983 / gLoss: 1.2921940088272095\n",
      "Epoch: 183 / dLoss: 0.5887292623519897 / gLoss: 4.02353048324585\n",
      "Epoch: 184 / dLoss: 0.6503649353981018 / gLoss: 0.4765908122062683\n",
      "Epoch: 185 / dLoss: 0.8831572532653809 / gLoss: 0.44356784224510193\n",
      "Epoch: 186 / dLoss: 0.2502537965774536 / gLoss: 4.1272478103637695\n",
      "Epoch: 187 / dLoss: 0.46458330750465393 / gLoss: 1.4105682373046875\n",
      "Epoch: 188 / dLoss: 0.5160485506057739 / gLoss: 2.9262218475341797\n",
      "Epoch: 189 / dLoss: 0.7548750638961792 / gLoss: 0.4962698817253113\n",
      "Epoch: 190 / dLoss: 0.48498910665512085 / gLoss: 2.371201992034912\n",
      "Epoch: 191 / dLoss: 0.3556275963783264 / gLoss: 3.950674533843994\n",
      "Epoch: 192 / dLoss: 1.0219507217407227 / gLoss: 0.42678508162498474\n",
      "Epoch: 193 / dLoss: 0.27137354016304016 / gLoss: 6.055695056915283\n",
      "Epoch: 194 / dLoss: 0.9065307378768921 / gLoss: 0.3840259909629822\n",
      "Epoch: 195 / dLoss: 0.1919018179178238 / gLoss: 8.0263090133667\n",
      "Epoch: 196 / dLoss: 0.2580812871456146 / gLoss: 4.6505937576293945\n",
      "Epoch: 197 / dLoss: 0.4550200402736664 / gLoss: 2.6144044399261475\n",
      "Epoch: 198 / dLoss: 0.45121002197265625 / gLoss: 2.527151107788086\n",
      "Epoch: 199 / dLoss: 0.9936636686325073 / gLoss: 1.8370482921600342\n",
      "Epoch: 200 / dLoss: 0.16371126472949982 / gLoss: 7.837127685546875\n",
      "Epoch: 201 / dLoss: 0.7846591472625732 / gLoss: 0.8960582613945007\n",
      "Epoch: 202 / dLoss: 0.28968000411987305 / gLoss: 6.272871017456055\n",
      "Epoch: 203 / dLoss: 0.7323845624923706 / gLoss: 0.39312443137168884\n",
      "Epoch: 204 / dLoss: 0.6276302337646484 / gLoss: 1.5996408462524414\n",
      "Epoch: 205 / dLoss: 0.48747116327285767 / gLoss: 2.2847414016723633\n",
      "Epoch: 206 / dLoss: 0.5840070843696594 / gLoss: 1.5428383350372314\n",
      "Epoch: 207 / dLoss: 0.4450594484806061 / gLoss: 3.1817538738250732\n",
      "Epoch: 208 / dLoss: 0.49219024181365967 / gLoss: 3.359966278076172\n",
      "Epoch: 209 / dLoss: 0.4890793263912201 / gLoss: 2.1483850479125977\n",
      "Epoch: 210 / dLoss: 0.19980770349502563 / gLoss: 7.648690700531006\n",
      "Epoch: 211 / dLoss: 0.8697185516357422 / gLoss: 0.4595209062099457\n",
      "Epoch: 212 / dLoss: 0.23982569575309753 / gLoss: 7.897692680358887\n",
      "Epoch: 213 / dLoss: 0.6787687540054321 / gLoss: 0.9007338285446167\n",
      "Epoch: 214 / dLoss: 0.34072843194007874 / gLoss: 3.561323642730713\n",
      "Epoch: 215 / dLoss: 0.17375735938549042 / gLoss: 9.971883773803711\n",
      "Epoch: 216 / dLoss: 0.6685529351234436 / gLoss: 0.7385153770446777\n",
      "Epoch: 217 / dLoss: 0.32156068086624146 / gLoss: 4.04854154586792\n",
      "Epoch: 218 / dLoss: 0.6064615845680237 / gLoss: 0.9802934527397156\n",
      "Epoch: 219 / dLoss: 1.0897107124328613 / gLoss: 0.5944719910621643\n",
      "Epoch: 220 / dLoss: 0.1987096071243286 / gLoss: 5.9426798820495605\n",
      "Epoch: 221 / dLoss: 0.7225991487503052 / gLoss: 1.805288553237915\n",
      "Epoch: 222 / dLoss: 0.23258551955223083 / gLoss: 5.733919620513916\n",
      "Epoch: 223 / dLoss: 0.4806845188140869 / gLoss: 1.2310035228729248\n",
      "Epoch: 224 / dLoss: 1.1062427759170532 / gLoss: 0.35444140434265137\n",
      "Epoch: 225 / dLoss: 0.18502670526504517 / gLoss: 9.46474838256836\n",
      "Epoch: 226 / dLoss: 0.29348495602607727 / gLoss: 6.621450901031494\n",
      "Epoch: 227 / dLoss: 0.8030487298965454 / gLoss: 0.3669423460960388\n",
      "Epoch: 228 / dLoss: 0.2382548749446869 / gLoss: 6.597743034362793\n",
      "Epoch: 229 / dLoss: 0.7497485280036926 / gLoss: 0.5513502359390259\n",
      "Epoch: 230 / dLoss: 0.7786955833435059 / gLoss: 1.059889316558838\n",
      "Epoch: 231 / dLoss: 0.2643235921859741 / gLoss: 5.650417804718018\n",
      "Epoch: 232 / dLoss: 0.837870717048645 / gLoss: 2.1417763233184814\n",
      "Epoch: 233 / dLoss: 0.23290345072746277 / gLoss: 8.95008659362793\n",
      "Epoch: 234 / dLoss: 0.7023568153381348 / gLoss: 6.015185356140137\n",
      "Epoch: 235 / dLoss: 0.45623406767845154 / gLoss: 3.9886703491210938\n",
      "Epoch: 236 / dLoss: 0.22211593389511108 / gLoss: 8.219436645507812\n",
      "Epoch: 237 / dLoss: 1.0355417728424072 / gLoss: 1.1474120616912842\n",
      "Epoch: 238 / dLoss: 0.2992088198661804 / gLoss: 6.177027702331543\n",
      "Epoch: 239 / dLoss: 0.43797796964645386 / gLoss: 5.568686485290527\n",
      "Epoch: 240 / dLoss: 0.5334165096282959 / gLoss: 2.197841167449951\n",
      "Epoch: 241 / dLoss: 0.17175619304180145 / gLoss: 9.577836036682129\n",
      "Epoch: 242 / dLoss: 0.26386329531669617 / gLoss: 3.1794931888580322\n",
      "Epoch: 243 / dLoss: 0.4449501931667328 / gLoss: 7.912058353424072\n",
      "Epoch: 244 / dLoss: 0.5314479470252991 / gLoss: 1.517275094985962\n",
      "Epoch: 245 / dLoss: 1.0422629117965698 / gLoss: 0.2935258448123932\n",
      "Epoch: 246 / dLoss: 0.4181734323501587 / gLoss: 4.004038333892822\n",
      "Epoch: 247 / dLoss: 0.6318670511245728 / gLoss: 1.988802194595337\n",
      "Epoch: 248 / dLoss: 0.22087615728378296 / gLoss: 8.141580581665039\n",
      "Epoch: 249 / dLoss: 0.7377715110778809 / gLoss: 0.4832130968570709\n",
      "Epoch: 250 / dLoss: 0.5971543788909912 / gLoss: 2.200167179107666\n",
      "Epoch: 251 / dLoss: 0.19795586168766022 / gLoss: 8.79000473022461\n",
      "Epoch: 252 / dLoss: 0.42317646741867065 / gLoss: 3.3582749366760254\n",
      "Epoch: 253 / dLoss: 0.36045992374420166 / gLoss: 4.920319080352783\n",
      "Epoch: 254 / dLoss: 0.48488640785217285 / gLoss: 1.999549150466919\n",
      "Epoch: 255 / dLoss: 0.8832287788391113 / gLoss: 0.7455852031707764\n",
      "Epoch: 256 / dLoss: 0.17167870700359344 / gLoss: 8.9677152633667\n",
      "Epoch: 257 / dLoss: 0.39771050214767456 / gLoss: 3.3238131999969482\n",
      "Epoch: 258 / dLoss: 0.3171091079711914 / gLoss: 2.9385292530059814\n",
      "Epoch: 259 / dLoss: 0.33349689841270447 / gLoss: 4.982456684112549\n",
      "Epoch: 260 / dLoss: 0.8836829662322998 / gLoss: 0.3151398301124573\n",
      "Epoch: 261 / dLoss: 0.2331853061914444 / gLoss: 6.602055549621582\n",
      "Epoch: 262 / dLoss: 0.20867550373077393 / gLoss: 6.456305027008057\n",
      "Epoch: 263 / dLoss: 0.7331126928329468 / gLoss: 1.6383711099624634\n",
      "Epoch: 264 / dLoss: 0.3316427767276764 / gLoss: 4.645179271697998\n",
      "Epoch: 265 / dLoss: 0.7408461570739746 / gLoss: 1.6562671661376953\n",
      "Epoch: 266 / dLoss: 0.6765827536582947 / gLoss: 0.8435400128364563\n",
      "Epoch: 267 / dLoss: 0.48454993963241577 / gLoss: 3.127047061920166\n",
      "Epoch: 268 / dLoss: 0.9862481355667114 / gLoss: 0.4572872221469879\n",
      "Epoch: 269 / dLoss: 0.2684207558631897 / gLoss: 7.3394975662231445\n",
      "Epoch: 270 / dLoss: 0.7878130674362183 / gLoss: 0.6206175684928894\n",
      "Epoch: 271 / dLoss: 0.2255014330148697 / gLoss: 7.469720363616943\n",
      "Epoch: 272 / dLoss: 0.25084438920021057 / gLoss: 9.77470588684082\n",
      "Epoch: 273 / dLoss: 0.8228775262832642 / gLoss: 0.6986071467399597\n",
      "Epoch: 274 / dLoss: 0.2935490906238556 / gLoss: 5.81520938873291\n",
      "Epoch: 275 / dLoss: 0.7064678072929382 / gLoss: 0.448915958404541\n",
      "Epoch: 276 / dLoss: 0.9374932646751404 / gLoss: 2.742699384689331\n",
      "Epoch: 277 / dLoss: 0.2844092845916748 / gLoss: 8.172873497009277\n",
      "Epoch: 278 / dLoss: 0.801483154296875 / gLoss: 0.4129219055175781\n",
      "Epoch: 279 / dLoss: 0.2015601545572281 / gLoss: 7.213226318359375\n",
      "Epoch: 280 / dLoss: 0.8300999402999878 / gLoss: 0.3534184992313385\n",
      "Epoch: 281 / dLoss: 0.4021087884902954 / gLoss: 3.7339272499084473\n",
      "Epoch: 282 / dLoss: 0.19329628348350525 / gLoss: 7.674368858337402\n",
      "Epoch: 283 / dLoss: 0.7809509038925171 / gLoss: 0.6103456616401672\n",
      "Epoch: 284 / dLoss: 0.1752612292766571 / gLoss: 9.331960678100586\n",
      "Epoch: 285 / dLoss: 0.8137812614440918 / gLoss: 0.4142600893974304\n",
      "Epoch: 286 / dLoss: 0.21688926219940186 / gLoss: 8.622199058532715\n",
      "Epoch: 287 / dLoss: 0.15358027815818787 / gLoss: 12.073987007141113\n",
      "Epoch: 288 / dLoss: 0.5698617696762085 / gLoss: 1.5970183610916138\n",
      "Epoch: 289 / dLoss: 0.34193897247314453 / gLoss: 6.375112533569336\n",
      "Epoch: 290 / dLoss: 0.6376159191131592 / gLoss: 1.317075252532959\n",
      "Epoch: 291 / dLoss: 0.9130810499191284 / gLoss: 2.482783794403076\n",
      "Epoch: 292 / dLoss: 0.14855927228927612 / gLoss: 10.778451919555664\n",
      "Epoch: 293 / dLoss: 0.6434239745140076 / gLoss: 4.066351890563965\n",
      "Epoch: 294 / dLoss: 0.37316060066223145 / gLoss: 5.287117958068848\n",
      "Epoch: 295 / dLoss: 0.7429966926574707 / gLoss: 0.342551589012146\n",
      "Epoch: 296 / dLoss: 0.3461619019508362 / gLoss: 7.0561933517456055\n",
      "Epoch: 297 / dLoss: 0.3015126585960388 / gLoss: 4.447244167327881\n",
      "Epoch: 298 / dLoss: 0.3792114853858948 / gLoss: 5.169140815734863\n",
      "Epoch: 299 / dLoss: 0.4966128170490265 / gLoss: 1.3610912561416626\n",
      "Epoch: 300 / dLoss: 0.17670635879039764 / gLoss: 7.820303440093994\n",
      "Epoch: 301 / dLoss: 0.2649746835231781 / gLoss: 11.5667142868042\n",
      "Epoch: 302 / dLoss: 0.9508946537971497 / gLoss: 0.23869387805461884\n",
      "Epoch: 303 / dLoss: 0.1810668408870697 / gLoss: 9.053362846374512\n",
      "Epoch: 304 / dLoss: 0.9009267687797546 / gLoss: 0.4053141176700592\n",
      "Epoch: 305 / dLoss: 0.393227219581604 / gLoss: 5.74705171585083\n",
      "Epoch: 306 / dLoss: 0.17789755761623383 / gLoss: 9.92263412475586\n",
      "Epoch: 307 / dLoss: 0.7692070603370667 / gLoss: 0.8563108444213867\n",
      "Epoch: 308 / dLoss: 0.17991265654563904 / gLoss: 7.896767616271973\n",
      "Epoch: 309 / dLoss: 0.8709228038787842 / gLoss: 0.8677576780319214\n",
      "Epoch: 310 / dLoss: 0.21920615434646606 / gLoss: 9.112763404846191\n",
      "Epoch: 311 / dLoss: 0.3815512955188751 / gLoss: 6.0034260749816895\n",
      "Epoch: 312 / dLoss: 0.6441687941551208 / gLoss: 1.689874291419983\n",
      "Epoch: 313 / dLoss: 0.42758211493492126 / gLoss: 3.4615166187286377\n",
      "Epoch: 314 / dLoss: 1.141723871231079 / gLoss: 0.37432989478111267\n",
      "Epoch: 315 / dLoss: 0.20466074347496033 / gLoss: 10.623534202575684\n",
      "Epoch: 316 / dLoss: 0.7002278566360474 / gLoss: 3.339029312133789\n",
      "Epoch: 317 / dLoss: 0.28708338737487793 / gLoss: 6.8933563232421875\n",
      "Epoch: 318 / dLoss: 0.5516262054443359 / gLoss: 1.3310953378677368\n",
      "Epoch: 319 / dLoss: 0.7923784255981445 / gLoss: 1.1127636432647705\n",
      "Epoch: 320 / dLoss: 0.1871168613433838 / gLoss: 8.483089447021484\n",
      "Epoch: 321 / dLoss: 0.22884975373744965 / gLoss: 4.269827365875244\n",
      "Epoch: 322 / dLoss: 0.535676896572113 / gLoss: 1.5093247890472412\n",
      "Epoch: 323 / dLoss: 0.2206125259399414 / gLoss: 7.603528022766113\n",
      "Epoch: 324 / dLoss: 0.9099013805389404 / gLoss: 0.38006287813186646\n",
      "Epoch: 325 / dLoss: 0.16828793287277222 / gLoss: 7.810951232910156\n",
      "Epoch: 326 / dLoss: 0.1764717996120453 / gLoss: 10.129667282104492\n",
      "Epoch: 327 / dLoss: 0.7803812026977539 / gLoss: 0.3016971945762634\n",
      "Epoch: 328 / dLoss: 0.2794281244277954 / gLoss: 6.031383991241455\n",
      "Epoch: 329 / dLoss: 0.7379093170166016 / gLoss: 0.5580549836158752\n",
      "Epoch: 330 / dLoss: 0.7059828042984009 / gLoss: 2.48148250579834\n",
      "Epoch: 331 / dLoss: 0.341020405292511 / gLoss: 4.097419738769531\n",
      "Epoch: 332 / dLoss: 1.109715461730957 / gLoss: 0.45745667815208435\n",
      "Epoch: 333 / dLoss: 0.20561885833740234 / gLoss: 12.385298728942871\n",
      "Epoch: 334 / dLoss: 0.9708045125007629 / gLoss: 0.3715500831604004\n",
      "Epoch: 335 / dLoss: 0.19072645902633667 / gLoss: 7.088216304779053\n",
      "Epoch: 336 / dLoss: 0.17326697707176208 / gLoss: 10.563142776489258\n",
      "Epoch: 337 / dLoss: 0.6142975687980652 / gLoss: 2.0144593715667725\n",
      "Epoch: 338 / dLoss: 0.4125543236732483 / gLoss: 3.2818939685821533\n",
      "Epoch: 339 / dLoss: 0.1807120144367218 / gLoss: 7.308960914611816\n",
      "Epoch: 340 / dLoss: 0.8066612482070923 / gLoss: 2.3730435371398926\n",
      "Epoch: 341 / dLoss: 0.15561920404434204 / gLoss: 7.793080806732178\n",
      "Epoch: 342 / dLoss: 0.21351927518844604 / gLoss: 4.321403503417969\n",
      "Epoch: 343 / dLoss: 0.8671277165412903 / gLoss: 0.4190823435783386\n",
      "Epoch: 344 / dLoss: 0.20184607803821564 / gLoss: 8.13715934753418\n",
      "Epoch: 345 / dLoss: 1.051792860031128 / gLoss: 1.3342173099517822\n",
      "Epoch: 346 / dLoss: 0.24322107434272766 / gLoss: 11.136544227600098\n",
      "Epoch: 347 / dLoss: 0.4261751174926758 / gLoss: 2.5324838161468506\n",
      "Epoch: 348 / dLoss: 0.6154743432998657 / gLoss: 0.7624825239181519\n",
      "Epoch: 349 / dLoss: 0.38509488105773926 / gLoss: 2.778611421585083\n",
      "Epoch: 350 / dLoss: 0.7904380559921265 / gLoss: 4.591728687286377\n",
      "Epoch: 351 / dLoss: 0.17473824322223663 / gLoss: 10.57179069519043\n",
      "Epoch: 352 / dLoss: 0.5753806829452515 / gLoss: 1.773503303527832\n",
      "Epoch: 353 / dLoss: 0.5770007371902466 / gLoss: 1.9735863208770752\n",
      "Epoch: 354 / dLoss: 0.4554310739040375 / gLoss: 5.431517601013184\n",
      "Epoch: 355 / dLoss: 0.8826664090156555 / gLoss: 0.37044674158096313\n",
      "Epoch: 356 / dLoss: 0.22222289443016052 / gLoss: 7.68694543838501\n",
      "Epoch: 357 / dLoss: 0.2836098074913025 / gLoss: 5.922252655029297\n",
      "Epoch: 358 / dLoss: 0.576178789138794 / gLoss: 2.4542036056518555\n",
      "Epoch: 359 / dLoss: 0.22299234569072723 / gLoss: 7.354508876800537\n",
      "Epoch: 360 / dLoss: 1.2059516906738281 / gLoss: 1.0644073486328125\n",
      "Epoch: 361 / dLoss: 0.22980356216430664 / gLoss: 10.533124923706055\n",
      "Epoch: 362 / dLoss: 0.3107961416244507 / gLoss: 7.116990566253662\n",
      "Epoch: 363 / dLoss: 0.5794455409049988 / gLoss: 0.6488121747970581\n",
      "Epoch: 364 / dLoss: 0.7012681365013123 / gLoss: 2.243269681930542\n",
      "Epoch: 365 / dLoss: 0.5774286985397339 / gLoss: 1.4395250082015991\n",
      "Epoch: 366 / dLoss: 0.6989602446556091 / gLoss: 0.7285994291305542\n",
      "Epoch: 367 / dLoss: 0.2847583293914795 / gLoss: 6.517831325531006\n",
      "Epoch: 368 / dLoss: 0.6884072422981262 / gLoss: 4.0849409103393555\n",
      "Epoch: 369 / dLoss: 0.7065932154655457 / gLoss: 0.49321022629737854\n",
      "Epoch: 370 / dLoss: 0.24580658972263336 / gLoss: 4.382350921630859\n",
      "Epoch: 371 / dLoss: 0.7532644271850586 / gLoss: 0.6654077768325806\n",
      "Epoch: 372 / dLoss: 0.7443943619728088 / gLoss: 1.5026028156280518\n",
      "Epoch: 373 / dLoss: 0.19785767793655396 / gLoss: 9.400899887084961\n",
      "Epoch: 374 / dLoss: 0.2916262745857239 / gLoss: 3.217716932296753\n",
      "Epoch: 375 / dLoss: 0.7167142629623413 / gLoss: 1.3336087465286255\n",
      "Epoch: 376 / dLoss: 0.4393296539783478 / gLoss: 4.606992721557617\n",
      "Epoch: 377 / dLoss: 0.7886803150177002 / gLoss: 0.37218791246414185\n",
      "Epoch: 378 / dLoss: 0.49256038665771484 / gLoss: 3.57072377204895\n",
      "Epoch: 379 / dLoss: 0.24351781606674194 / gLoss: 8.992464065551758\n",
      "Epoch: 380 / dLoss: 0.5624854564666748 / gLoss: 0.9609736204147339\n",
      "Epoch: 381 / dLoss: 0.5854398608207703 / gLoss: 1.4745895862579346\n",
      "Epoch: 382 / dLoss: 0.39398837089538574 / gLoss: 3.7930538654327393\n",
      "Epoch: 383 / dLoss: 0.8166874647140503 / gLoss: 1.4944839477539062\n",
      "Epoch: 384 / dLoss: 0.32381850481033325 / gLoss: 4.38416862487793\n",
      "Epoch: 385 / dLoss: 0.2249629944562912 / gLoss: 7.14647912979126\n",
      "Epoch: 386 / dLoss: 0.8143556714057922 / gLoss: 0.7648205161094666\n",
      "Epoch: 387 / dLoss: 0.3037196397781372 / gLoss: 6.970920562744141\n",
      "Epoch: 388 / dLoss: 0.8811644911766052 / gLoss: 0.6270359754562378\n",
      "Epoch: 389 / dLoss: 0.20763781666755676 / gLoss: 5.075246810913086\n",
      "Epoch: 390 / dLoss: 0.17823673784732819 / gLoss: 6.596005916595459\n",
      "Epoch: 391 / dLoss: 0.9777800440788269 / gLoss: 0.3526124954223633\n",
      "Epoch: 392 / dLoss: 0.1844150274991989 / gLoss: 6.331063747406006\n",
      "Epoch: 393 / dLoss: 0.9354492425918579 / gLoss: 0.32136988639831543\n",
      "Epoch: 394 / dLoss: 0.1735914945602417 / gLoss: 8.832796096801758\n",
      "Epoch: 395 / dLoss: 0.2090327888727188 / gLoss: 9.079416275024414\n",
      "Epoch: 396 / dLoss: 0.7050091028213501 / gLoss: 0.5035610198974609\n",
      "Epoch: 397 / dLoss: 0.23378822207450867 / gLoss: 6.86348819732666\n",
      "Epoch: 398 / dLoss: 0.4870900511741638 / gLoss: 3.815478563308716\n",
      "Epoch: 399 / dLoss: 0.838234543800354 / gLoss: 0.9889314770698547\n",
      "Epoch: 400 / dLoss: 0.2128821313381195 / gLoss: 7.274762153625488\n",
      "Epoch: 401 / dLoss: 0.273644357919693 / gLoss: 4.508455753326416\n",
      "Epoch: 402 / dLoss: 0.7707949876785278 / gLoss: 2.924038887023926\n",
      "Epoch: 403 / dLoss: 0.4603997766971588 / gLoss: 4.438061714172363\n",
      "Epoch: 404 / dLoss: 0.7842516899108887 / gLoss: 1.1253290176391602\n",
      "Epoch: 405 / dLoss: 0.1871255785226822 / gLoss: 11.178129196166992\n",
      "Epoch: 406 / dLoss: 0.39987480640411377 / gLoss: 7.965493202209473\n",
      "Epoch: 407 / dLoss: 0.6612564325332642 / gLoss: 1.3017243146896362\n",
      "Epoch: 408 / dLoss: 0.6994119882583618 / gLoss: 0.5635834336280823\n",
      "Epoch: 409 / dLoss: 0.5673396587371826 / gLoss: 3.136981964111328\n",
      "Epoch: 410 / dLoss: 0.4055413603782654 / gLoss: 2.023939847946167\n",
      "Epoch: 411 / dLoss: 0.5833945274353027 / gLoss: 0.9890114068984985\n",
      "Epoch: 412 / dLoss: 0.637467622756958 / gLoss: 0.7885891795158386\n",
      "Epoch: 413 / dLoss: 0.6630961894989014 / gLoss: 1.0784897804260254\n",
      "Epoch: 414 / dLoss: 0.7047886848449707 / gLoss: 1.8528823852539062\n",
      "Epoch: 415 / dLoss: 0.7541459798812866 / gLoss: 0.6658481359481812\n",
      "Epoch: 416 / dLoss: 0.4966031312942505 / gLoss: 2.842646598815918\n",
      "Epoch: 417 / dLoss: 0.9040228724479675 / gLoss: 1.1239032745361328\n",
      "Epoch: 418 / dLoss: 0.29395031929016113 / gLoss: 6.016800880432129\n",
      "Epoch: 419 / dLoss: 0.5582952499389648 / gLoss: 1.5203053951263428\n",
      "Epoch: 420 / dLoss: 0.2778981626033783 / gLoss: 6.789437770843506\n",
      "Epoch: 421 / dLoss: 0.9582210779190063 / gLoss: 0.45642146468162537\n",
      "Epoch: 422 / dLoss: 0.1801365166902542 / gLoss: 11.728558540344238\n",
      "Epoch: 423 / dLoss: 0.33243411779403687 / gLoss: 9.523246765136719\n",
      "Epoch: 424 / dLoss: 0.8291288018226624 / gLoss: 1.6116507053375244\n",
      "Epoch: 425 / dLoss: 0.44698551297187805 / gLoss: 4.662079811096191\n",
      "Epoch: 426 / dLoss: 0.6842700839042664 / gLoss: 0.5484546422958374\n",
      "Epoch: 427 / dLoss: 0.7163605690002441 / gLoss: 0.7594727277755737\n",
      "Epoch: 428 / dLoss: 0.4674069583415985 / gLoss: 4.563821792602539\n",
      "Epoch: 429 / dLoss: 0.5678316950798035 / gLoss: 3.7158617973327637\n",
      "Epoch: 430 / dLoss: 0.3410853445529938 / gLoss: 5.090597152709961\n",
      "Epoch: 431 / dLoss: 0.9150674343109131 / gLoss: 1.748366355895996\n",
      "Epoch: 432 / dLoss: 0.20976586639881134 / gLoss: 10.946619987487793\n",
      "Epoch: 433 / dLoss: 0.8028461337089539 / gLoss: 1.0966846942901611\n",
      "Epoch: 434 / dLoss: 0.1695229858160019 / gLoss: 6.666515350341797\n",
      "Epoch: 435 / dLoss: 0.7903262972831726 / gLoss: 0.36147958040237427\n",
      "Epoch: 436 / dLoss: 0.31294873356819153 / gLoss: 6.725575923919678\n",
      "Epoch: 437 / dLoss: 0.26150843501091003 / gLoss: 6.154282569885254\n",
      "Epoch: 438 / dLoss: 0.3055063486099243 / gLoss: 6.5026350021362305\n",
      "Epoch: 439 / dLoss: 0.6595305800437927 / gLoss: 0.8243966102600098\n",
      "Epoch: 440 / dLoss: 0.43187978863716125 / gLoss: 3.2303996086120605\n",
      "Epoch: 441 / dLoss: 0.16526779532432556 / gLoss: 10.271832466125488\n",
      "Epoch: 442 / dLoss: 0.8390004634857178 / gLoss: 0.3368193507194519\n",
      "Epoch: 443 / dLoss: 0.2093891203403473 / gLoss: 9.579915046691895\n",
      "Epoch: 444 / dLoss: 0.7996832132339478 / gLoss: 0.35167697072029114\n",
      "Epoch: 445 / dLoss: 0.1659301072359085 / gLoss: 10.45995044708252\n",
      "Epoch: 446 / dLoss: 0.21137458086013794 / gLoss: 6.366574764251709\n",
      "Epoch: 447 / dLoss: 0.4661411941051483 / gLoss: 4.606374263763428\n",
      "Epoch: 448 / dLoss: 0.5588123798370361 / gLoss: 2.5734081268310547\n",
      "Epoch: 449 / dLoss: 0.43018561601638794 / gLoss: 8.523767471313477\n",
      "Epoch: 450 / dLoss: 0.24384456872940063 / gLoss: 13.153350830078125\n",
      "Epoch: 451 / dLoss: 0.5298172235488892 / gLoss: 2.143840789794922\n",
      "Epoch: 452 / dLoss: 0.5848971009254456 / gLoss: 2.321103096008301\n",
      "Epoch: 453 / dLoss: 0.34309929609298706 / gLoss: 2.734990119934082\n",
      "Epoch: 454 / dLoss: 0.87825608253479 / gLoss: 0.6488531827926636\n",
      "Epoch: 455 / dLoss: 0.3826538920402527 / gLoss: 6.835715293884277\n",
      "Epoch: 456 / dLoss: 0.436700701713562 / gLoss: 3.8461501598358154\n",
      "Epoch: 457 / dLoss: 0.6818228960037231 / gLoss: 2.4279980659484863\n",
      "Epoch: 458 / dLoss: 0.4646987318992615 / gLoss: 2.7519869804382324\n",
      "Epoch: 459 / dLoss: 0.5733592510223389 / gLoss: 2.477790355682373\n",
      "Epoch: 460 / dLoss: 0.3768332302570343 / gLoss: 9.439231872558594\n",
      "Epoch: 461 / dLoss: 0.5264211893081665 / gLoss: 2.598903179168701\n",
      "Epoch: 462 / dLoss: 0.7220669984817505 / gLoss: 0.42001304030418396\n",
      "Epoch: 463 / dLoss: 0.3017515540122986 / gLoss: 3.656219482421875\n",
      "Epoch: 464 / dLoss: 0.5935913324356079 / gLoss: 1.4613864421844482\n",
      "Epoch: 465 / dLoss: 0.9915624856948853 / gLoss: 0.395329087972641\n",
      "Epoch: 466 / dLoss: 0.24711446464061737 / gLoss: 6.757134914398193\n",
      "Epoch: 467 / dLoss: 0.19334082305431366 / gLoss: 8.249231338500977\n",
      "Epoch: 468 / dLoss: 0.8380514979362488 / gLoss: 0.32142409682273865\n",
      "Epoch: 469 / dLoss: 0.3208370804786682 / gLoss: 5.94034481048584\n",
      "Epoch: 470 / dLoss: 0.8148502111434937 / gLoss: 0.34134441614151\n",
      "Epoch: 471 / dLoss: 0.7327501773834229 / gLoss: 0.9998957514762878\n",
      "Epoch: 472 / dLoss: 0.3034672141075134 / gLoss: 6.7154107093811035\n",
      "Epoch: 473 / dLoss: 0.5049771666526794 / gLoss: 2.854337215423584\n",
      "Epoch: 474 / dLoss: 0.32857903838157654 / gLoss: 2.218045711517334\n",
      "Epoch: 475 / dLoss: 0.4341883659362793 / gLoss: 2.376786708831787\n",
      "Epoch: 476 / dLoss: 0.8908854722976685 / gLoss: 0.501497745513916\n",
      "Epoch: 477 / dLoss: 0.21577544510364532 / gLoss: 9.345458984375\n",
      "Epoch: 478 / dLoss: 0.20555713772773743 / gLoss: 9.521177291870117\n",
      "Epoch: 479 / dLoss: 0.6971265077590942 / gLoss: 1.9129396677017212\n",
      "Epoch: 480 / dLoss: 0.24694985151290894 / gLoss: 8.44648265838623\n",
      "Epoch: 481 / dLoss: 0.5226330757141113 / gLoss: 4.7222137451171875\n",
      "Epoch: 482 / dLoss: 0.4727882146835327 / gLoss: 5.226842403411865\n",
      "Epoch: 483 / dLoss: 0.16434963047504425 / gLoss: 10.778340339660645\n",
      "Epoch: 484 / dLoss: 0.22762790322303772 / gLoss: 7.906018257141113\n",
      "Epoch: 485 / dLoss: 0.3750690221786499 / gLoss: 8.252355575561523\n",
      "Epoch: 486 / dLoss: 0.15959902107715607 / gLoss: 14.403985977172852\n",
      "Epoch: 487 / dLoss: 0.37479424476623535 / gLoss: 7.231888771057129\n",
      "Epoch: 488 / dLoss: 0.34475207328796387 / gLoss: 8.571276664733887\n",
      "Epoch: 489 / dLoss: 0.5993101000785828 / gLoss: 4.492855072021484\n",
      "Epoch: 490 / dLoss: 0.3157898783683777 / gLoss: 7.639040470123291\n",
      "Epoch: 491 / dLoss: 0.27530479431152344 / gLoss: 9.311582565307617\n",
      "Epoch: 492 / dLoss: 0.5401912927627563 / gLoss: 6.072817325592041\n",
      "Epoch: 493 / dLoss: 0.20433112978935242 / gLoss: 7.751705169677734\n",
      "Epoch: 494 / dLoss: 0.20455579459667206 / gLoss: 10.514156341552734\n",
      "Epoch: 495 / dLoss: 0.4336717128753662 / gLoss: 4.541033744812012\n",
      "Epoch: 496 / dLoss: 0.6299200654029846 / gLoss: 6.537009239196777\n",
      "Epoch: 497 / dLoss: 0.2764686346054077 / gLoss: 8.540511131286621\n",
      "Epoch: 498 / dLoss: 0.7461052536964417 / gLoss: 2.757293701171875\n",
      "Epoch: 499 / dLoss: 0.31565171480178833 / gLoss: 6.1642866134643555\n"
     ]
    }
   ],
   "source": [
    "cgan = cgan_model.CGAN(exp_config)\n",
    "d_loss_err, d_loss_true, d_loss_fake, g_loss_err, g_pred, g_true = cgan.train(X_train_scaled, y_train, \n",
    "                                                                              epochs=exp_config.training.n_epochs,\n",
    "                                                                              batch_size=exp_config.training.batch_size)\n",
    "\n",
    "ypred_gan_test = cgan.predict(X_test_scaled)"
   ]
  },
  {
   "cell_type": "code",
   "execution_count": 40,
   "metadata": {},
   "outputs": [
    {
     "data": {
      "image/png": "[encoded data removed]",
      "text/plain": [
       "<Figure size 432x288 with 1 Axes>"
      ]
     },
     "metadata": {
      "needs_background": "light"
     },
     "output_type": "display_data"
    },
    {
     "data": {
      "image/png": "[encoded data removed]",
      "text/plain": [
       "<Figure size 432x288 with 1 Axes>"
      ]
     },
     "metadata": {
      "needs_background": "light"
     },
     "output_type": "display_data"
    }
   ],
   "source": [
    "plotting.plots(d_loss_err, d_loss_true, d_loss_fake, g_loss_err, g_pred, g_true, fig_dir, exp_config.run.save_fig)"
   ]
  },
  {
   "cell_type": "code",
   "execution_count": 43,
   "metadata": {},
   "outputs": [],
   "source": [
    "ypred_mean_gan_test, ypred_median_gan_test, ypred_gan_sample_test = cgan.sample(X_test_scaled, \n",
    "                                                                                exp_config.training.n_samples)"
   ]
  },
  {
   "cell_type": "code",
   "execution_count": 44,
   "metadata": {},
   "outputs": [],
   "source": [
    "ypred_mean_gan_train, ypred_median_gan_train, ypred_gan_sample_train = cgan.sample(X_train_scaled, \n",
    "                                                                                   exp_config.training.n_samples)"
   ]
  },
  {
   "cell_type": "markdown",
   "metadata": {},
   "source": [
    "# NN"
   ]
  },
  {
   "cell_type": "code",
   "execution_count": 45,
   "metadata": {},
   "outputs": [
    {
     "name": "stderr",
     "output_type": "stream",
     "text": [
      "W0509 11:34:59.879842 4487802304 deprecation.py:506] From /Users/zhongsheng/anaconda2/envs/ganRegression/lib/python3.6/site-packages/keras/backend/tensorflow_backend.py:3733: calling dropout (from tensorflow.python.ops.nn_ops) with keep_prob is deprecated and will be removed in a future version.\n",
      "Instructions for updating:\n",
      "Please use `rate` instead of `keep_prob`. Rate should be set to `rate = 1 - keep_prob`.\n"
     ]
    }
   ],
   "source": [
    "import keras\n",
    "\n",
    "dropout_rate = 0.1\n",
    "\n",
    "# Comparable architecture to GAN \n",
    "model = keras.models.Sequential([\n",
    "    keras.layers.Dense(500, activation=\"relu\", input_shape=X_train_scaled.shape[1:]),\n",
    "    keras.layers.Dropout(dropout_rate), \n",
    "    keras.layers.Dense(500, activation=\"relu\"),\n",
    "    keras.layers.Dropout(dropout_rate), \n",
    "    keras.layers.Dense(500, activation=\"relu\"),\n",
    "    keras.layers.Dropout(dropout_rate),\n",
    "    keras.layers.Dense(100, activation=\"relu\"),\n",
    "    keras.layers.Dropout(dropout_rate),\n",
    "    keras.layers.Dense(100, activation=\"relu\"),\n",
    "    keras.layers.Dropout(dropout_rate),\n",
    "    keras.layers.Dense(50, activation=\"relu\"),\n",
    "    keras.layers.Dropout(dropout_rate),\n",
    "    keras.layers.Dense(1, activation=\"linear\"),\n",
    "])\n",
    "model.compile(loss=\"mean_squared_error\", optimizer=keras.optimizers.Adam(lr=0.001, decay=0.1))"
   ]
  },
  {
   "cell_type": "code",
   "execution_count": 46,
   "metadata": {},
   "outputs": [
    {
     "name": "stdout",
     "output_type": "stream",
     "text": [
      "Train on 67 samples, validate on 34 samples\n",
      "Epoch 1/100\n",
      "67/67 [==============================] - 1s 13ms/step - loss: 1.0305 - val_loss: 0.3511\b\b\b\b\b\b\b\b\b\b\b\b\b\b\b\b\b\b\b\b\b\b\b\b\b\b\b\b\b\b\b\b\b\b\b\b\b\b\b\n",
      "Epoch 2/100\n",
      "67/67 [==============================] - 0s 293us/step - loss: 0.2518 - val_loss: 0.1512\b\b\b\b\b\b\b\b\b\b\b\b\b\b\b\b\b\b\b\b\b\b\b\b\b\b\b\b\b\b\b\b\b\b\b\b\b\b\n",
      "Epoch 3/100\n",
      "67/67 [==============================] - 0s 299us/step - loss: 0.4871 - val_loss: 0.0736\b\b\b\b\b\b\b\b\b\b\b\b\b\b\b\b\b\b\b\b\b\b\b\b\b\b\b\b\b\b\b\b\b\b\b\b\b\b\n",
      "Epoch 4/100\n",
      "67/67 [==============================] - 0s 324us/step - loss: 0.1603 - val_loss: 0.0659\b\b\b\b\b\b\b\b\b\b\b\b\b\b\b\b\b\b\b\b\b\b\b\b\b\b\b\b\b\b\b\b\b\b\b\b\b\b\n",
      "Epoch 5/100\n",
      "67/67 [==============================] - 0s 304us/step - loss: 0.1272 - val_loss: 0.1245\b\b\b\b\b\b\b\b\b\b\b\b\b\b\b\b\b\b\b\b\b\b\b\b\b\b\b\b\b\b\b\b\b\b\b\b\b\b\n",
      "Epoch 6/100\n",
      "67/67 [==============================] - 0s 293us/step - loss: 0.1198 - val_loss: 0.1228\b\b\b\b\b\b\b\b\b\b\b\b\b\b\b\b\b\b\b\b\b\b\b\b\b\b\b\b\b\b\b\b\b\b\b\b\b\b\n",
      "Epoch 7/100\n",
      "67/67 [==============================] - 0s 363us/step - loss: 0.1190 - val_loss: 0.0801\b\b\b\b\b\b\b\b\b\b\b\b\b\b\b\b\b\b\b\b\b\b\b\b\b\b\b\b\b\b\b\b\b\b\b\b\b\b\n",
      "Epoch 8/100\n",
      "67/67 [==============================] - 0s 316us/step - loss: 0.1009 - val_loss: 0.0417\b\b\b\b\b\b\b\b\b\b\b\b\b\b\b\b\b\b\b\b\b\b\b\b\b\b\b\b\b\b\b\b\b\b\b\b\b\b\n",
      "Epoch 9/100\n",
      "67/67 [==============================] - 0s 331us/step - loss: 0.0740 - val_loss: 0.0263\b\b\b\b\b\b\b\b\b\b\b\b\b\b\b\b\b\b\b\b\b\b\b\b\b\b\b\b\b\b\b\b\b\b\b\b\b\b\n",
      "Epoch 10/100\n",
      "67/67 [==============================] - 0s 479us/step - loss: 0.0739 - val_loss: 0.0264\b\b\b\b\b\b\b\b\b\b\b\b\b\b\b\b\b\b\b\b\b\b\b\b\b\b\b\b\b\b\b\b\b\b\b\b\b\b\n",
      "Epoch 11/100\n",
      "67/67 [==============================] - 0s 299us/step - loss: 0.0799 - val_loss: 0.0285\b\b\b\b\b\b\b\b\b\b\b\b\b\b\b\b\b\b\b\b\b\b\b\b\b\b\b\b\b\b\b\b\b\b\b\b\b\b\n",
      "Epoch 12/100\n",
      "67/67 [==============================] - 0s 388us/step - loss: 0.0670 - val_loss: 0.0307\b\b\b\b\b\b\b\b\b\b\b\b\b\b\b\b\b\b\b\b\b\b\b\b\b\b\b\b\b\b\b\b\b\b\b\b\b\b\n",
      "Epoch 13/100\n",
      "67/67 [==============================] - 0s 410us/step - loss: 0.0480 - val_loss: 0.0350\b\b\b\b\b\b\b\b\b\b\b\b\b\b\b\b\b\b\b\b\b\b\b\b\b\b\b\b\b\b\b\b\b\b\b\b\b\b\n",
      "Epoch 14/100\n",
      "67/67 [==============================] - 0s 324us/step - loss: 0.0507 - val_loss: 0.0400\b\b\b\b\b\b\b\b\b\b\b\b\b\b\b\b\b\b\b\b\b\b\b\b\b\b\b\b\b\b\b\b\b\b\b\b\b\b\n",
      "Epoch 15/100\n",
      "67/67 [==============================] - 0s 409us/step - loss: 0.0487 - val_loss: 0.0459\b\b\b\b\b\b\b\b\b\b\b\b\b\b\b\b\b\b\b\b\b\b\b\b\b\b\b\b\b\b\b\b\b\b\b\b\b\b\n",
      "Epoch 16/100\n",
      "67/67 [==============================] - 0s 358us/step - loss: 0.0623 - val_loss: 0.0529\b\b\b\b\b\b\b\b\b\b\b\b\b\b\b\b\b\b\b\b\b\b\b\b\b\b\b\b\b\b\b\b\b\b\b\b\b\b\n",
      "Epoch 17/100\n",
      "67/67 [==============================] - 0s 297us/step - loss: 0.0541 - val_loss: 0.0512\b\b\b\b\b\b\b\b\b\b\b\b\b\b\b\b\b\b\b\b\b\b\b\b\b\b\b\b\b\b\b\b\b\b\b\b\b\b\n",
      "Epoch 18/100\n",
      "67/67 [==============================] - 0s 373us/step - loss: 0.0644 - val_loss: 0.0432\b\b\b\b\b\b\b\b\b\b\b\b\b\b\b\b\b\b\b\b\b\b\b\b\b\b\b\b\b\b\b\b\b\b\b\b\b\b\n",
      "Epoch 19/100\n",
      "67/67 [==============================] - 0s 468us/step - loss: 0.0523 - val_loss: 0.0332\b\b\b\b\b\b\b\b\b\b\b\b\b\b\b\b\b\b\b\b\b\b\b\b\b\b\b\b\b\b\b\b\b\b\b\b\b\b\n"
     ]
    }
   ],
   "source": [
    "callbacks = [keras.callbacks.EarlyStopping(patience=10)]\n",
    "history = model.fit(X_train_scaled, y_train,\n",
    "                    validation_data=(X_valid_scaled, y_valid), epochs=100,\n",
    "                    callbacks=callbacks)"
   ]
  },
  {
   "cell_type": "code",
   "execution_count": 47,
   "metadata": {},
   "outputs": [
    {
     "data": {
      "image/png": "[encoded data removed]",
      "text/plain": [
       "<Figure size 576x360 with 1 Axes>"
      ]
     },
     "metadata": {
      "needs_background": "light"
     },
     "output_type": "display_data"
    }
   ],
   "source": [
    "plotting.plot_learning_curves(history)"
   ]
  },
  {
   "cell_type": "code",
   "execution_count": 48,
   "metadata": {},
   "outputs": [],
   "source": [
    "ypred_nn_test = model.predict(X_test_scaled)"
   ]
  },
  {
   "cell_type": "markdown",
   "metadata": {},
   "source": [
    "# GP"
   ]
  },
  {
   "cell_type": "code",
   "execution_count": 51,
   "metadata": {},
   "outputs": [
    {
     "data": {
      "application/vnd.jupyter.widget-view+json": {
       "model_id": "9ecee8f621de4381bcce20f28d875ad1",
       "version_major": 2,
       "version_minor": 0
      },
      "text/plain": [
       "HBox(children=(VBox(children=(IntProgress(value=0, max=1000), HTML(value=''))), Box(children=(HTML(value=''),)…"
      ]
     },
     "metadata": {},
     "output_type": "display_data"
    }
   ],
   "source": [
    "import GPy\n",
    "\n",
    "run_hyperopt_search = True\n",
    "rbf = True\n",
    "variance = 0.1\n",
    "length = 0.5\n",
    "noise_var = exp_config.model.z_input_size\n",
    "if rbf:\n",
    "    kernel = GPy.kern.RBF(input_dim=cgan.x_input_size, variance=variance, lengthscale=length)\n",
    "else:\n",
    "    kernel = GPy.kern.sde_RatQuad(input_dim=X_train_scaled.shape[1], variance=variance, lengthscale=length, power=power)\n",
    "\n",
    "gpr = GPy.models.GPRegression(X_train_scaled, y_train.reshape(-1, 1), kernel, noise_var=noise_var)\n",
    "\n",
    "if run_hyperopt_search:\n",
    "    gpr.optimize(messages=True)"
   ]
  },
  {
   "cell_type": "code",
   "execution_count": 52,
   "metadata": {},
   "outputs": [],
   "source": [
    "ypred_gp_test, cov_test = gpr.predict(X_test_scaled)"
   ]
  },
  {
   "cell_type": "markdown",
   "metadata": {},
   "source": [
    "# Plots"
   ]
  },
  {
   "cell_type": "code",
   "execution_count": 53,
   "metadata": {},
   "outputs": [
    {
     "data": {
      "image/png": "[encoded data removed]",
      "text/plain": [
       "<Figure size 432x288 with 1 Axes>"
      ]
     },
     "metadata": {
      "needs_background": "light"
     },
     "output_type": "display_data"
    }
   ],
   "source": [
    "# plotting.plot_densities_joint(y_test, ypred_nn_test, ypred_mean_gan_test, ypred_gp_test, \n",
    "#                              \"Linear-vs-GAN-vs-GP P(y) density\", fig_dir=fig_dir, \n",
    "#                              prefix=\"all_marginalized\", save_fig=exp_config.run.save_fig, at_x=True)\n",
    "\n",
    "plotting.plot_datadistrib_joint(y_test, ypred_nn_test, ypred_mean_gan_test, ypred_gp_test, \n",
    "                                \"Linear-vs-GAN-vs-GP P(y) density\", fig_dir=fig_dir, \n",
    "                                prefix=\"all_marginalized\", save_fig=exp_config.run.save_fig)"
   ]
  },
  {
   "cell_type": "markdown",
   "metadata": {},
   "source": [
    "# Metrics"
   ]
  },
  {
   "cell_type": "code",
   "execution_count": 54,
   "metadata": {},
   "outputs": [],
   "source": [
    "n_eval_runs = 10"
   ]
  },
  {
   "cell_type": "code",
   "execution_count": 55,
   "metadata": {},
   "outputs": [],
   "source": [
    "from sklearn.metrics import mean_absolute_error, mean_squared_error\n",
    "\n",
    "mse_gan_= []\n",
    "mae_gan_ = []\n",
    "for i in range(n_eval_runs):\n",
    "    ypred_mean_gan_test_, ypred_median_gan_test_, _ = cgan.sample(X_test_scaled, exp_config.training.n_samples)\n",
    "    mae_gan_.append(mean_absolute_error(y_test, ypred_median_gan_test_))\n",
    "    mse_gan_.append(mean_squared_error(y_test, ypred_mean_gan_test_))"
   ]
  },
  {
   "cell_type": "code",
   "execution_count": 56,
   "metadata": {},
   "outputs": [
    {
     "name": "stdout",
     "output_type": "stream",
     "text": [
      "NN MAE test: 0.15830983883936264\n",
      "GP MAE test: 0.0002921978523157251\n",
      "GAN MAE test: 0.16894062155510398 +- 0.000534226793418566\n"
     ]
    }
   ],
   "source": [
    "nn_mae = mean_absolute_error(ypred_nn_test, y_test)\n",
    "gp_mae = mean_absolute_error(ypred_gp_test, y_test)\n",
    "gan_mae_mean = np.mean(np.asarray(mae_gan_))\n",
    "gan_mae_std = np.std(np.asarray(mae_gan_))\n",
    "\n",
    "print(f\"NN MAE test: {nn_mae}\")\n",
    "print(f\"GP MAE test: {gp_mae}\")\n",
    "print(f\"GAN MAE test: {gan_mae_mean} +- {gan_mae_std}\")"
   ]
  },
  {
   "cell_type": "code",
   "execution_count": 57,
   "metadata": {},
   "outputs": [
    {
     "name": "stdout",
     "output_type": "stream",
     "text": [
      "NN MSE test: 0.0369848727158702\n",
      "GP MSE test: 1.2561815699761658e-07\n",
      "GAN MSE test: 13.51035365640941 +- 2.9435455066161755\n"
     ]
    }
   ],
   "source": [
    "nn_mse = mean_squared_error(ypred_nn_test, y_test)\n",
    "gp_mse = mean_squared_error(ypred_gp_test, y_test)\n",
    "gan_mse_mean = np.mean(np.asarray(mse_gan_))\n",
    "gan_mse_std = np.std(np.asarray(mse_gan_))\n",
    "# mdn_mse_mean = np.mean(np.asarray(mse_mdn_))\n",
    "# mdn_mse_std = np.std(np.asarray(mse_mdn_))\n",
    "\n",
    "print(f\"NN MSE test: {nn_mse}\")\n",
    "print(f\"GP MSE test: {gp_mse}\")\n",
    "print(f\"GAN MSE test: {gan_mse_mean} +- {gan_mse_std}\")\n",
    "# print(f\"MDN MSE test: {mdn_mse_mean} +- {mdn_mse_std}\")"
   ]
  },
  {
   "cell_type": "code",
   "execution_count": 59,
   "metadata": {},
   "outputs": [
    {
     "name": "stdout",
     "output_type": "stream",
     "text": [
      "NN Gaussian NLPD: -0.22967321553145612\n"
     ]
    }
   ],
   "source": [
    "cov_nn = np.mean((y_test - ypred_nn_test)**2)\n",
    "nn_nlpd = metrics.gaussian_NLPD(y_test, ypred_nn_test, np.ones(len(ypred_nn_test)) * cov_nn, \"NN\")"
   ]
  },
  {
   "cell_type": "code",
   "execution_count": 60,
   "metadata": {},
   "outputs": [
    {
     "name": "stdout",
     "output_type": "stream",
     "text": [
      "GP Gaussian NLPD: -5.873658469572845\n"
     ]
    }
   ],
   "source": [
    "gp_nlpd = metrics.gaussian_NLPD(y_test, ypred_gp_test, cov_test, \"GP\")"
   ]
  },
  {
   "cell_type": "code",
   "execution_count": 61,
   "metadata": {},
   "outputs": [
    {
     "name": "stdout",
     "output_type": "stream",
     "text": [
      "GAN Train NLLH: -0.27970799418200876\n",
      "GAN Test NLLH: mean -0.3059583383425306 std 0.004649285624142285\n"
     ]
    }
   ],
   "source": [
    "gan_nlpd_train, w, lls = metrics.Parzen(cgan, X_valid_scaled, y_valid, n_sample=exp_config.training.n_samples)\n",
    "nlpd_ = []\n",
    "for i in range(n_eval_runs):\n",
    "    nlpd_.append(metrics.Parzen_test(cgan, X_test_scaled, y_test, w, exp_config.training.n_samples))\n",
    "gan_nlpd_test = np.mean(nlpd_)\n",
    "gan_nlpd_std_test = np.std(nlpd_)\n",
    "\n",
    "print(f\"GAN Train NLLH: {gan_nlpd_train}\")\n",
    "print(f\"GAN Test NLLH: mean {gan_nlpd_test} std {gan_nlpd_std_test}\")"
   ]
  },
  {
   "cell_type": "code",
   "execution_count": 62,
   "metadata": {},
   "outputs": [],
   "source": [
    "if exp_config.run.save_fig:\n",
    "    file = open(f\"{fig_dir}/metrics.txt\",\"w\") \n",
    "\n",
    "    file.write(f\"===Test MAE===\\n\")\n",
    "    file.write(f\"NN MAE test: {nn_mae}\\n\") \n",
    "    file.write(f\"GP MAE test: {gp_mae}\\n\")\n",
    "    file.write(f\"GAN MAE test: {gan_mae_mean} +- {gan_mae_std}\\n\")\n",
    "    file.write(f\"===Test MSE===\\n\")\n",
    "    file.write(f\"NN MSE test: {nn_mse}\\n\")\n",
    "    file.write(f\"GP MSE test: {gp_mse}\\n\")\n",
    "    file.write(f\"GAN MSE test: {gan_mse_mean} +- {gan_mse_std}\\n\")\n",
    "    file.write(f\"===Test NLPD===\\n\")\n",
    "    file.write(f\"NN Gaussian NLPD: {nn_nlpd}\\n\")\n",
    "    file.write(f\"GP Gaussian NLPD: {gp_nlpd}\\n\")\n",
    "    file.write(f\"GAN NLPD: {gan_nlpd_test} +- {gan_nlpd_std_test}\\n\")\n",
    "    file.close() "
   ]
  }
 ],
 "metadata": {
  "kernelspec": {
   "display_name": "Python 3",
   "language": "python",
   "name": "python3"
  },
  "language_info": {
   "codemirror_mode": {
    "name": "ipython",
    "version": 3
   },
   "file_extension": ".py",
   "mimetype": "text/x-python",
   "name": "python",
   "nbconvert_exporter": "python",
   "pygments_lexer": "ipython3",
   "version": "3.6.10"
  }
 },
 "nbformat": 4,
 "nbformat_minor": 2
}
